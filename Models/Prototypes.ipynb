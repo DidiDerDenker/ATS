{
  "nbformat": 4,
  "nbformat_minor": 0,
  "metadata": {
    "colab": {
      "name": "prototypes.ipynb",
      "provenance": [],
      "collapsed_sections": [
        "USD2fRPCClJQ",
        "LCDqcYSSC7P6"
      ]
    },
    "kernelspec": {
      "name": "python3",
      "display_name": "Python 3"
    }
  },
  "cells": [
    {
      "cell_type": "markdown",
      "metadata": {
        "id": "USD2fRPCClJQ"
      },
      "source": [
        "# Extractive Single Document Summarization"
      ]
    },
    {
      "cell_type": "markdown",
      "metadata": {
        "id": "-jQh7PTwCj-1"
      },
      "source": [
        "---\n",
        "\n",
        "\n",
        "**spaCy de_core_news_sm**:\n",
        "\n",
        "*   German multi-task CNN trained on the TIGER and WikiNER corpora that assigns context-specific token vectors, POS tags, dependency parses and named entities\n",
        "*   Source: https://spacy.io/models/de\n",
        "\n",
        "\n",
        "---\n",
        "\n",
        "\n",
        "**sklearn CountVectorizer**:\n",
        "\n",
        "*   Converts a collection of text documents to a matrix of token counts\n",
        "*   Source: https://scikit-learn.org/stable/modules/feature_extraction.html\n",
        "\n",
        "\n",
        "---\n",
        "\n",
        "\n",
        "**Hyperparameter**:\n",
        "\n",
        "*   nlp: Can be replaced by a domain specific vocabulary\n",
        "*   corpus: Define a large text that needs to be summarized\n",
        "*   sorted_word_frequencies & mcw: Define the scope of top words\n",
        "*   sentence_rank & top_sentences: Define the sentence length of the summary\n",
        "\n",
        "\n",
        "---"
      ]
    },
    {
      "cell_type": "code",
      "metadata": {
        "id": "CumxuNJaCeb_",
        "outputId": "6f83a53f-1451-4750-9c8f-d0e972486b87",
        "colab": {
          "base_uri": "https://localhost:8080/",
          "height": 1000
        }
      },
      "source": [
        "# Imports\n",
        "!pip install -U spacy\n",
        "!pip install -U scikit-learn\n",
        "!python -m spacy download de_core_news_sm"
      ],
      "execution_count": 13,
      "outputs": [
        {
          "output_type": "stream",
          "text": [
            "Requirement already up-to-date: spacy in /usr/local/lib/python3.6/dist-packages (2.3.2)\n",
            "Requirement already satisfied, skipping upgrade: tqdm<5.0.0,>=4.38.0 in /usr/local/lib/python3.6/dist-packages (from spacy) (4.41.1)\n",
            "Requirement already satisfied, skipping upgrade: blis<0.5.0,>=0.4.0 in /usr/local/lib/python3.6/dist-packages (from spacy) (0.4.1)\n",
            "Requirement already satisfied, skipping upgrade: cymem<2.1.0,>=2.0.2 in /usr/local/lib/python3.6/dist-packages (from spacy) (2.0.3)\n",
            "Requirement already satisfied, skipping upgrade: murmurhash<1.1.0,>=0.28.0 in /usr/local/lib/python3.6/dist-packages (from spacy) (1.0.2)\n",
            "Requirement already satisfied, skipping upgrade: thinc==7.4.1 in /usr/local/lib/python3.6/dist-packages (from spacy) (7.4.1)\n",
            "Requirement already satisfied, skipping upgrade: catalogue<1.1.0,>=0.0.7 in /usr/local/lib/python3.6/dist-packages (from spacy) (1.0.0)\n",
            "Requirement already satisfied, skipping upgrade: numpy>=1.15.0 in /usr/local/lib/python3.6/dist-packages (from spacy) (1.18.5)\n",
            "Requirement already satisfied, skipping upgrade: plac<1.2.0,>=0.9.6 in /usr/local/lib/python3.6/dist-packages (from spacy) (1.1.3)\n",
            "Requirement already satisfied, skipping upgrade: requests<3.0.0,>=2.13.0 in /usr/local/lib/python3.6/dist-packages (from spacy) (2.23.0)\n",
            "Requirement already satisfied, skipping upgrade: wasabi<1.1.0,>=0.4.0 in /usr/local/lib/python3.6/dist-packages (from spacy) (0.8.0)\n",
            "Requirement already satisfied, skipping upgrade: preshed<3.1.0,>=3.0.2 in /usr/local/lib/python3.6/dist-packages (from spacy) (3.0.2)\n",
            "Requirement already satisfied, skipping upgrade: srsly<1.1.0,>=1.0.2 in /usr/local/lib/python3.6/dist-packages (from spacy) (1.0.2)\n",
            "Requirement already satisfied, skipping upgrade: setuptools in /usr/local/lib/python3.6/dist-packages (from spacy) (50.3.0)\n",
            "Requirement already satisfied, skipping upgrade: importlib-metadata>=0.20; python_version < \"3.8\" in /usr/local/lib/python3.6/dist-packages (from catalogue<1.1.0,>=0.0.7->spacy) (2.0.0)\n",
            "Requirement already satisfied, skipping upgrade: urllib3!=1.25.0,!=1.25.1,<1.26,>=1.21.1 in /usr/local/lib/python3.6/dist-packages (from requests<3.0.0,>=2.13.0->spacy) (1.24.3)\n",
            "Requirement already satisfied, skipping upgrade: chardet<4,>=3.0.2 in /usr/local/lib/python3.6/dist-packages (from requests<3.0.0,>=2.13.0->spacy) (3.0.4)\n",
            "Requirement already satisfied, skipping upgrade: certifi>=2017.4.17 in /usr/local/lib/python3.6/dist-packages (from requests<3.0.0,>=2.13.0->spacy) (2020.6.20)\n",
            "Requirement already satisfied, skipping upgrade: idna<3,>=2.5 in /usr/local/lib/python3.6/dist-packages (from requests<3.0.0,>=2.13.0->spacy) (2.10)\n",
            "Requirement already satisfied, skipping upgrade: zipp>=0.5 in /usr/local/lib/python3.6/dist-packages (from importlib-metadata>=0.20; python_version < \"3.8\"->catalogue<1.1.0,>=0.0.7->spacy) (3.2.0)\n",
            "Requirement already up-to-date: scikit-learn in /usr/local/lib/python3.6/dist-packages (0.23.2)\n",
            "Requirement already satisfied, skipping upgrade: scipy>=0.19.1 in /usr/local/lib/python3.6/dist-packages (from scikit-learn) (1.4.1)\n",
            "Requirement already satisfied, skipping upgrade: threadpoolctl>=2.0.0 in /usr/local/lib/python3.6/dist-packages (from scikit-learn) (2.1.0)\n",
            "Requirement already satisfied, skipping upgrade: numpy>=1.13.3 in /usr/local/lib/python3.6/dist-packages (from scikit-learn) (1.18.5)\n",
            "Requirement already satisfied, skipping upgrade: joblib>=0.11 in /usr/local/lib/python3.6/dist-packages (from scikit-learn) (0.16.0)\n",
            "Collecting de_core_news_sm==2.3.0\n",
            "\u001b[?25l  Downloading https://github.com/explosion/spacy-models/releases/download/de_core_news_sm-2.3.0/de_core_news_sm-2.3.0.tar.gz (14.9MB)\n",
            "\u001b[K     |████████████████████████████████| 14.9MB 668kB/s \n",
            "\u001b[?25hRequirement already satisfied: spacy<2.4.0,>=2.3.0 in /usr/local/lib/python3.6/dist-packages (from de_core_news_sm==2.3.0) (2.3.2)\n",
            "Requirement already satisfied: catalogue<1.1.0,>=0.0.7 in /usr/local/lib/python3.6/dist-packages (from spacy<2.4.0,>=2.3.0->de_core_news_sm==2.3.0) (1.0.0)\n",
            "Requirement already satisfied: wasabi<1.1.0,>=0.4.0 in /usr/local/lib/python3.6/dist-packages (from spacy<2.4.0,>=2.3.0->de_core_news_sm==2.3.0) (0.8.0)\n",
            "Requirement already satisfied: murmurhash<1.1.0,>=0.28.0 in /usr/local/lib/python3.6/dist-packages (from spacy<2.4.0,>=2.3.0->de_core_news_sm==2.3.0) (1.0.2)\n",
            "Requirement already satisfied: srsly<1.1.0,>=1.0.2 in /usr/local/lib/python3.6/dist-packages (from spacy<2.4.0,>=2.3.0->de_core_news_sm==2.3.0) (1.0.2)\n",
            "Requirement already satisfied: plac<1.2.0,>=0.9.6 in /usr/local/lib/python3.6/dist-packages (from spacy<2.4.0,>=2.3.0->de_core_news_sm==2.3.0) (1.1.3)\n",
            "Requirement already satisfied: preshed<3.1.0,>=3.0.2 in /usr/local/lib/python3.6/dist-packages (from spacy<2.4.0,>=2.3.0->de_core_news_sm==2.3.0) (3.0.2)\n",
            "Requirement already satisfied: blis<0.5.0,>=0.4.0 in /usr/local/lib/python3.6/dist-packages (from spacy<2.4.0,>=2.3.0->de_core_news_sm==2.3.0) (0.4.1)\n",
            "Requirement already satisfied: numpy>=1.15.0 in /usr/local/lib/python3.6/dist-packages (from spacy<2.4.0,>=2.3.0->de_core_news_sm==2.3.0) (1.18.5)\n",
            "Requirement already satisfied: tqdm<5.0.0,>=4.38.0 in /usr/local/lib/python3.6/dist-packages (from spacy<2.4.0,>=2.3.0->de_core_news_sm==2.3.0) (4.41.1)\n",
            "Requirement already satisfied: cymem<2.1.0,>=2.0.2 in /usr/local/lib/python3.6/dist-packages (from spacy<2.4.0,>=2.3.0->de_core_news_sm==2.3.0) (2.0.3)\n",
            "Requirement already satisfied: setuptools in /usr/local/lib/python3.6/dist-packages (from spacy<2.4.0,>=2.3.0->de_core_news_sm==2.3.0) (50.3.0)\n",
            "Requirement already satisfied: thinc==7.4.1 in /usr/local/lib/python3.6/dist-packages (from spacy<2.4.0,>=2.3.0->de_core_news_sm==2.3.0) (7.4.1)\n",
            "Requirement already satisfied: requests<3.0.0,>=2.13.0 in /usr/local/lib/python3.6/dist-packages (from spacy<2.4.0,>=2.3.0->de_core_news_sm==2.3.0) (2.23.0)\n",
            "Requirement already satisfied: importlib-metadata>=0.20; python_version < \"3.8\" in /usr/local/lib/python3.6/dist-packages (from catalogue<1.1.0,>=0.0.7->spacy<2.4.0,>=2.3.0->de_core_news_sm==2.3.0) (2.0.0)\n",
            "Requirement already satisfied: idna<3,>=2.5 in /usr/local/lib/python3.6/dist-packages (from requests<3.0.0,>=2.13.0->spacy<2.4.0,>=2.3.0->de_core_news_sm==2.3.0) (2.10)\n",
            "Requirement already satisfied: urllib3!=1.25.0,!=1.25.1,<1.26,>=1.21.1 in /usr/local/lib/python3.6/dist-packages (from requests<3.0.0,>=2.13.0->spacy<2.4.0,>=2.3.0->de_core_news_sm==2.3.0) (1.24.3)\n",
            "Requirement already satisfied: chardet<4,>=3.0.2 in /usr/local/lib/python3.6/dist-packages (from requests<3.0.0,>=2.13.0->spacy<2.4.0,>=2.3.0->de_core_news_sm==2.3.0) (3.0.4)\n",
            "Requirement already satisfied: certifi>=2017.4.17 in /usr/local/lib/python3.6/dist-packages (from requests<3.0.0,>=2.13.0->spacy<2.4.0,>=2.3.0->de_core_news_sm==2.3.0) (2020.6.20)\n",
            "Requirement already satisfied: zipp>=0.5 in /usr/local/lib/python3.6/dist-packages (from importlib-metadata>=0.20; python_version < \"3.8\"->catalogue<1.1.0,>=0.0.7->spacy<2.4.0,>=2.3.0->de_core_news_sm==2.3.0) (3.2.0)\n",
            "Building wheels for collected packages: de-core-news-sm\n",
            "  Building wheel for de-core-news-sm (setup.py) ... \u001b[?25l\u001b[?25hdone\n",
            "  Created wheel for de-core-news-sm: filename=de_core_news_sm-2.3.0-cp36-none-any.whl size=14907580 sha256=2cf6648479b55b54d06ad8503dcd7dbced86d25867c5671b49aad761b41b7bdb\n",
            "  Stored in directory: /tmp/pip-ephem-wheel-cache-xyb6jk3_/wheels/db/f3/1e/0df0f27eee12bd1aaa94bcfef11b01eca62f90b9b9a0ce08fd\n",
            "Successfully built de-core-news-sm\n",
            "Installing collected packages: de-core-news-sm\n",
            "Successfully installed de-core-news-sm-2.3.0\n",
            "\u001b[38;5;2m✔ Download and installation successful\u001b[0m\n",
            "You can now load the model via spacy.load('de_core_news_sm')\n"
          ],
          "name": "stdout"
        }
      ]
    },
    {
      "cell_type": "code",
      "metadata": {
        "id": "Rst8vlqrDyp0",
        "outputId": "e1407517-579d-4fc2-96d2-9eb115f2081e",
        "colab": {
          "base_uri": "https://localhost:8080/",
          "height": 34
        }
      },
      "source": [
        "# Imports\n",
        "import spacy\n",
        "import de_core_news_sm\n",
        "\n",
        "from sklearn.feature_extraction.text import CountVectorizer\n",
        "from spacy.lang.de.stop_words import STOP_WORDS\n",
        "\n",
        "from google.colab import drive\n",
        "drive.mount(\"/content/drive\")"
      ],
      "execution_count": 24,
      "outputs": [
        {
          "output_type": "stream",
          "text": [
            "Drive already mounted at /content/drive; to attempt to forcibly remount, call drive.mount(\"/content/drive\", force_remount=True).\n"
          ],
          "name": "stdout"
        }
      ]
    },
    {
      "cell_type": "code",
      "metadata": {
        "id": "5aHE5hyGD2lM",
        "outputId": "07656ec8-b70a-41ca-9d5e-837d97bd7f52",
        "colab": {
          "base_uri": "https://localhost:8080/",
          "height": 292
        }
      },
      "source": [
        "# Setup document\n",
        "nlp = de_core_news_sm.load()\n",
        "\n",
        "with open(\"/content/drive/My Drive/Colab Notebooks/test.txt\", \"r\", encoding=\"utf-8\") as f:\n",
        "    text = \" \".join(f.readlines())\n",
        "\n",
        "doc = nlp(text)\n",
        "\n",
        "print(doc)\n",
        "print(type(doc))"
      ],
      "execution_count": 52,
      "outputs": [
        {
          "output_type": "stream",
          "text": [
            "Unter Studium (lateinisch studere „[nach etwas] streben, sich [um etwas] bemühen“) wird primär das wissenschaftliche Lernen und Forschen an Universitäten und anderen Hochschulen sowie diesen gleichgestellten Akademien verstanden. Zu den gleichgestellten Hochschulen zählen in Deutschland auch duale Hochschulen und Kunsthochschulen (die in Österreich seit 2005 als Universitäten gelten).\n",
            " \n",
            " Meist werden als Studium auch Bildungsgänge außerhalb der Hochschulen bezeichnet, vor allem die Aus- und Weiterbildung im tertiären Bildungsbereich an Berufs- bzw. Fachakademien. Für das Studium an Hochschulen ist die vorherige Immatrikulation (Einschreibung) erforderlich, die an gewisse Voraussetzungen gebunden ist.\n",
            " \n",
            " Umgangssprachlich wird der Begriff Studium heute aber auch für Ausbildungsgänge an Fachschulen, Berufsfachschulen oder an Fernschulen, Verwaltungs- und Wirtschaftsakademien und sonstigen Bildungseinrichtungen des quartären Bildungsbereichs verwendet.\n",
            " \n",
            " Ein Studium besteht unter anderem aus dem Besuch von Vorlesungen, ergänzt durch Übungen (vereinzelt auch Feldübungen), Tutorien, Seminare, Repetitorien, Kolloquien, Praktika und aus dem Selbststudium. Das erworbene Wissen wird entweder in semesterbegleitenden Teilprüfungen oder in Abschlussprüfungen durch Klausuren oder mündliche Prüfungen abgefragt. In der Regel schließt eine wissenschaftliche Examensarbeit das Studium ab.\n",
            " \n",
            " Die Zuständigkeit der Hochschulen ist von Staat zu Staat unterschiedlich. So liegt sie in Deutschland auf Länderebene, in der Schweiz liegt die Zuständigkeit mit Ausnahme der beiden Eidgenössischen Technischen Hochschulen auf kantonaler Ebene, in Österreich liegt die ganze Bildung in der Zuständigkeit des Bundes. Für das Studium wird je nach Staat eine Studiengebühr erhoben.\n",
            " \n",
            " Die Zulassungsvoraussetzungen für das Studium an einer Hochschule hängt in Deutschland davon ab, um was für eine Hochschule es sich handelt. So wird für das Studium an einer Universität im Allgemeinen das Abitur oder ein gleichwertiger Abschluss erwartet, während für den Besuch einer Fachhochschule die Fachhochschulreife genügt. Bei einigen Fächern bestehen Zulassungsbeschränkungen (Numerus clausus). Die Bewerbung für einen Studienplatz erfolgt entweder über die Stiftung für Hochschulzulassung oder direkt an die jeweilige Hochschule.\n",
            " \n",
            " Seit dem Beginn der Vereinheitlichung der europäischen Hochschulbildung im Rahmen des Bologna-Prozesses (seit 1999) unterscheidet man auch in Deutschland zwischen einem grundständigen Studium (Bachelor, Diplom, Magister, erstes Staatsexamen, Lizenziat, Baccalaureus/Bachelor) und einem darauf aufbauenden postgradualen Studium (Master). Auf das letztere kann ein Doktorat aufgebaut werden. Eine Besonderheit in Deutschland ist das duale Studium, in dem in das Hochschulstudium umfangreiche Praxisanteile eingeflochten sind, die in Unternehmen absolviert werden.\n",
            "\n",
            "<class 'spacy.tokens.doc.Doc'>\n"
          ],
          "name": "stdout"
        }
      ]
    },
    {
      "cell_type": "code",
      "metadata": {
        "id": "fW8espR_HKlT",
        "outputId": "256ced7a-ecea-419e-e160-aaaf0c91deea",
        "colab": {
          "base_uri": "https://localhost:8080/",
          "height": 54
        }
      },
      "source": [
        "# Setup corpus\n",
        "corpus = [sentence.text.lower() for sentence in doc.sents]\n",
        "\n",
        "print(corpus)"
      ],
      "execution_count": 53,
      "outputs": [
        {
          "output_type": "stream",
          "text": [
            "['unter studium (lateinisch studere „[nach etwas] streben, sich [um etwas] bemühen“) wird primär das wissenschaftliche lernen und forschen an universitäten und anderen hochschulen sowie diesen gleichgestellten akademien verstanden.', 'zu den gleichgestellten hochschulen zählen in deutschland auch duale hochschulen und kunsthochschulen (die in österreich seit 2005 als universitäten gelten).\\n \\n ', 'meist werden als studium auch bildungsgänge außerhalb der hochschulen bezeichnet, vor allem die aus- und weiterbildung im tertiären bildungsbereich an berufs- bzw. fachakademien.', 'für das studium an hochschulen ist die vorherige immatrikulation (einschreibung) erforderlich, die an gewisse voraussetzungen gebunden ist.\\n \\n ', 'umgangssprachlich wird der begriff studium heute aber auch für ausbildungsgänge an fachschulen, berufsfachschulen oder an fernschulen, verwaltungs- und wirtschaftsakademien und sonstigen bildungseinrichtungen des quartären bildungsbereichs verwendet.\\n \\n ', 'ein studium besteht unter anderem aus dem besuch von vorlesungen, ergänzt durch übungen (vereinzelt auch feldübungen), tutorien, seminare, repetitorien, kolloquien, praktika und aus dem selbststudium.', 'das erworbene wissen wird entweder in semesterbegleitenden teilprüfungen oder in abschlussprüfungen durch klausuren oder mündliche prüfungen abgefragt.', 'in der regel schließt eine wissenschaftliche examensarbeit das studium ab.\\n \\n ', 'die zuständigkeit der hochschulen ist von staat zu staat unterschiedlich.', 'so liegt sie in deutschland auf länderebene, in der schweiz liegt die zuständigkeit mit ausnahme der beiden eidgenössischen technischen hochschulen auf kantonaler ebene, in österreich liegt die ganze bildung in der zuständigkeit des bundes.', 'für das studium wird je nach staat eine studiengebühr erhoben.\\n \\n ', 'die zulassungsvoraussetzungen für das studium an einer hochschule hängt in deutschland davon ab, um was für eine hochschule es sich handelt.', 'so wird für das studium an einer universität im allgemeinen das abitur oder ein gleichwertiger abschluss erwartet, während für den besuch einer fachhochschule die fachhochschulreife genügt.', 'bei einigen fächern bestehen zulassungsbeschränkungen (numerus clausus).', 'die bewerbung für einen studienplatz erfolgt entweder über die stiftung für hochschulzulassung oder direkt an die jeweilige hochschule.\\n \\n ', 'seit dem beginn der vereinheitlichung der europäischen hochschulbildung im rahmen des bologna-prozesses (seit 1999) unterscheidet man auch in deutschland zwischen einem grundständigen studium (bachelor, diplom, magister, erstes staatsexamen, lizenziat, baccalaureus/bachelor) und einem darauf aufbauenden postgradualen studium (master).', 'auf das letztere kann ein doktorat aufgebaut werden.', 'eine besonderheit in deutschland ist das duale studium, in dem in das hochschulstudium umfangreiche praxisanteile eingeflochten sind, die in unternehmen absolviert werden.\\n']\n"
          ],
          "name": "stdout"
        }
      ]
    },
    {
      "cell_type": "code",
      "metadata": {
        "id": "R6pElr3iHQhb",
        "outputId": "224ab7da-83bb-4ba2-da99-a23fbf9863f4",
        "colab": {
          "base_uri": "https://localhost:8080/",
          "height": 54
        }
      },
      "source": [
        "# Setup count vectorizer\n",
        "cv = CountVectorizer(stop_words=list(STOP_WORDS))\n",
        "cv_fit = cv.fit_transform(corpus)\n",
        "\n",
        "word_list = cv.get_feature_names();\n",
        "count_list = cv_fit.toarray().sum(axis=0)\n",
        "word_frequency = dict(zip(word_list, count_list))\n",
        "\n",
        "print(word_frequency)"
      ],
      "execution_count": 54,
      "outputs": [
        {
          "output_type": "stream",
          "text": [
            "{'1999': 1, '2005': 1, 'abgefragt': 1, 'abitur': 1, 'abschluss': 1, 'abschlussprüfungen': 1, 'absolviert': 1, 'akademien': 1, 'aufbauenden': 1, 'aufgebaut': 1, 'ausbildungsgänge': 1, 'ausnahme': 1, 'außerhalb': 1, 'baccalaureus': 1, 'bachelor': 2, 'beginn': 1, 'begriff': 1, 'bemühen': 1, 'berufs': 1, 'berufsfachschulen': 1, 'besonderheit': 1, 'bestehen': 1, 'besteht': 1, 'besuch': 2, 'bewerbung': 1, 'bezeichnet': 1, 'bildung': 1, 'bildungsbereich': 1, 'bildungsbereichs': 1, 'bildungseinrichtungen': 1, 'bildungsgänge': 1, 'bologna': 1, 'bundes': 1, 'bzw': 1, 'clausus': 1, 'deutschland': 5, 'diplom': 1, 'direkt': 1, 'doktorat': 1, 'duale': 2, 'ebene': 1, 'eidgenössischen': 1, 'eingeflochten': 1, 'einschreibung': 1, 'erfolgt': 1, 'erforderlich': 1, 'ergänzt': 1, 'erhoben': 1, 'erwartet': 1, 'erworbene': 1, 'europäischen': 1, 'examensarbeit': 1, 'fachakademien': 1, 'fachhochschule': 1, 'fachhochschulreife': 1, 'fachschulen': 1, 'feldübungen': 1, 'fernschulen': 1, 'forschen': 1, 'fächern': 1, 'gebunden': 1, 'gelten': 1, 'genügt': 1, 'gewisse': 1, 'gleichgestellten': 2, 'gleichwertiger': 1, 'grundständigen': 1, 'handelt': 1, 'hochschulbildung': 1, 'hochschule': 3, 'hochschulen': 7, 'hochschulstudium': 1, 'hochschulzulassung': 1, 'hängt': 1, 'immatrikulation': 1, 'jeweilige': 1, 'kantonaler': 1, 'klausuren': 1, 'kolloquien': 1, 'kunsthochschulen': 1, 'lateinisch': 1, 'lernen': 1, 'letztere': 1, 'liegt': 3, 'lizenziat': 1, 'länderebene': 1, 'magister': 1, 'master': 1, 'meist': 1, 'mündliche': 1, 'numerus': 1, 'postgradualen': 1, 'praktika': 1, 'praxisanteile': 1, 'primär': 1, 'prozesses': 1, 'prüfungen': 1, 'quartären': 1, 'rahmen': 1, 'regel': 1, 'repetitorien': 1, 'schließt': 1, 'schweiz': 1, 'selbststudium': 1, 'semesterbegleitenden': 1, 'seminare': 1, 'sonstigen': 1, 'staat': 3, 'staatsexamen': 1, 'stiftung': 1, 'streben': 1, 'studere': 1, 'studiengebühr': 1, 'studienplatz': 1, 'studium': 12, 'technischen': 1, 'teilprüfungen': 1, 'tertiären': 1, 'tutorien': 1, 'umfangreiche': 1, 'umgangssprachlich': 1, 'universität': 1, 'universitäten': 2, 'unternehmen': 1, 'unterscheidet': 1, 'unterschiedlich': 1, 'vereinheitlichung': 1, 'vereinzelt': 1, 'verstanden': 1, 'verwaltungs': 1, 'verwendet': 1, 'voraussetzungen': 1, 'vorherige': 1, 'vorlesungen': 1, 'weiterbildung': 1, 'wirtschaftsakademien': 1, 'wissen': 1, 'wissenschaftliche': 2, 'zulassungsbeschränkungen': 1, 'zulassungsvoraussetzungen': 1, 'zuständigkeit': 3, 'zählen': 1, 'österreich': 2, 'übungen': 1}\n"
          ],
          "name": "stdout"
        }
      ]
    },
    {
      "cell_type": "code",
      "metadata": {
        "id": "6_R-FIK8H4Uw",
        "outputId": "24fcfe6e-db2c-419c-d6ee-5edadf0aad6a",
        "colab": {
          "base_uri": "https://localhost:8080/",
          "height": 34
        }
      },
      "source": [
        "# Get most common words\n",
        "sorted_word_frequencies = sorted(word_frequency.values())\n",
        "\n",
        "mcw = [word for word, freq \n",
        "       in word_frequency.items() \n",
        "       if freq in sorted_word_frequencies[-3:]]\n",
        "\n",
        "print(mcw)"
      ],
      "execution_count": 55,
      "outputs": [
        {
          "output_type": "stream",
          "text": [
            "['deutschland', 'hochschulen', 'studium']\n"
          ],
          "name": "stdout"
        }
      ]
    },
    {
      "cell_type": "code",
      "metadata": {
        "id": "x2TV1fdvJeJy",
        "outputId": "58ac770a-e702-4cdd-b2c2-ca8072621272",
        "colab": {
          "base_uri": "https://localhost:8080/",
          "height": 54
        }
      },
      "source": [
        "# Get relative word frequencies\n",
        "highest_frequency = sorted_word_frequencies[-1]\n",
        "\n",
        "for word in word_frequency.keys():\n",
        "    word_frequency[word] = (word_frequency[word] / highest_frequency)\n",
        "\n",
        "print(word_frequency)"
      ],
      "execution_count": 56,
      "outputs": [
        {
          "output_type": "stream",
          "text": [
            "{'1999': 0.08333333333333333, '2005': 0.08333333333333333, 'abgefragt': 0.08333333333333333, 'abitur': 0.08333333333333333, 'abschluss': 0.08333333333333333, 'abschlussprüfungen': 0.08333333333333333, 'absolviert': 0.08333333333333333, 'akademien': 0.08333333333333333, 'aufbauenden': 0.08333333333333333, 'aufgebaut': 0.08333333333333333, 'ausbildungsgänge': 0.08333333333333333, 'ausnahme': 0.08333333333333333, 'außerhalb': 0.08333333333333333, 'baccalaureus': 0.08333333333333333, 'bachelor': 0.16666666666666666, 'beginn': 0.08333333333333333, 'begriff': 0.08333333333333333, 'bemühen': 0.08333333333333333, 'berufs': 0.08333333333333333, 'berufsfachschulen': 0.08333333333333333, 'besonderheit': 0.08333333333333333, 'bestehen': 0.08333333333333333, 'besteht': 0.08333333333333333, 'besuch': 0.16666666666666666, 'bewerbung': 0.08333333333333333, 'bezeichnet': 0.08333333333333333, 'bildung': 0.08333333333333333, 'bildungsbereich': 0.08333333333333333, 'bildungsbereichs': 0.08333333333333333, 'bildungseinrichtungen': 0.08333333333333333, 'bildungsgänge': 0.08333333333333333, 'bologna': 0.08333333333333333, 'bundes': 0.08333333333333333, 'bzw': 0.08333333333333333, 'clausus': 0.08333333333333333, 'deutschland': 0.4166666666666667, 'diplom': 0.08333333333333333, 'direkt': 0.08333333333333333, 'doktorat': 0.08333333333333333, 'duale': 0.16666666666666666, 'ebene': 0.08333333333333333, 'eidgenössischen': 0.08333333333333333, 'eingeflochten': 0.08333333333333333, 'einschreibung': 0.08333333333333333, 'erfolgt': 0.08333333333333333, 'erforderlich': 0.08333333333333333, 'ergänzt': 0.08333333333333333, 'erhoben': 0.08333333333333333, 'erwartet': 0.08333333333333333, 'erworbene': 0.08333333333333333, 'europäischen': 0.08333333333333333, 'examensarbeit': 0.08333333333333333, 'fachakademien': 0.08333333333333333, 'fachhochschule': 0.08333333333333333, 'fachhochschulreife': 0.08333333333333333, 'fachschulen': 0.08333333333333333, 'feldübungen': 0.08333333333333333, 'fernschulen': 0.08333333333333333, 'forschen': 0.08333333333333333, 'fächern': 0.08333333333333333, 'gebunden': 0.08333333333333333, 'gelten': 0.08333333333333333, 'genügt': 0.08333333333333333, 'gewisse': 0.08333333333333333, 'gleichgestellten': 0.16666666666666666, 'gleichwertiger': 0.08333333333333333, 'grundständigen': 0.08333333333333333, 'handelt': 0.08333333333333333, 'hochschulbildung': 0.08333333333333333, 'hochschule': 0.25, 'hochschulen': 0.5833333333333334, 'hochschulstudium': 0.08333333333333333, 'hochschulzulassung': 0.08333333333333333, 'hängt': 0.08333333333333333, 'immatrikulation': 0.08333333333333333, 'jeweilige': 0.08333333333333333, 'kantonaler': 0.08333333333333333, 'klausuren': 0.08333333333333333, 'kolloquien': 0.08333333333333333, 'kunsthochschulen': 0.08333333333333333, 'lateinisch': 0.08333333333333333, 'lernen': 0.08333333333333333, 'letztere': 0.08333333333333333, 'liegt': 0.25, 'lizenziat': 0.08333333333333333, 'länderebene': 0.08333333333333333, 'magister': 0.08333333333333333, 'master': 0.08333333333333333, 'meist': 0.08333333333333333, 'mündliche': 0.08333333333333333, 'numerus': 0.08333333333333333, 'postgradualen': 0.08333333333333333, 'praktika': 0.08333333333333333, 'praxisanteile': 0.08333333333333333, 'primär': 0.08333333333333333, 'prozesses': 0.08333333333333333, 'prüfungen': 0.08333333333333333, 'quartären': 0.08333333333333333, 'rahmen': 0.08333333333333333, 'regel': 0.08333333333333333, 'repetitorien': 0.08333333333333333, 'schließt': 0.08333333333333333, 'schweiz': 0.08333333333333333, 'selbststudium': 0.08333333333333333, 'semesterbegleitenden': 0.08333333333333333, 'seminare': 0.08333333333333333, 'sonstigen': 0.08333333333333333, 'staat': 0.25, 'staatsexamen': 0.08333333333333333, 'stiftung': 0.08333333333333333, 'streben': 0.08333333333333333, 'studere': 0.08333333333333333, 'studiengebühr': 0.08333333333333333, 'studienplatz': 0.08333333333333333, 'studium': 1.0, 'technischen': 0.08333333333333333, 'teilprüfungen': 0.08333333333333333, 'tertiären': 0.08333333333333333, 'tutorien': 0.08333333333333333, 'umfangreiche': 0.08333333333333333, 'umgangssprachlich': 0.08333333333333333, 'universität': 0.08333333333333333, 'universitäten': 0.16666666666666666, 'unternehmen': 0.08333333333333333, 'unterscheidet': 0.08333333333333333, 'unterschiedlich': 0.08333333333333333, 'vereinheitlichung': 0.08333333333333333, 'vereinzelt': 0.08333333333333333, 'verstanden': 0.08333333333333333, 'verwaltungs': 0.08333333333333333, 'verwendet': 0.08333333333333333, 'voraussetzungen': 0.08333333333333333, 'vorherige': 0.08333333333333333, 'vorlesungen': 0.08333333333333333, 'weiterbildung': 0.08333333333333333, 'wirtschaftsakademien': 0.08333333333333333, 'wissen': 0.08333333333333333, 'wissenschaftliche': 0.16666666666666666, 'zulassungsbeschränkungen': 0.08333333333333333, 'zulassungsvoraussetzungen': 0.08333333333333333, 'zuständigkeit': 0.25, 'zählen': 0.08333333333333333, 'österreich': 0.16666666666666666, 'übungen': 0.08333333333333333}\n"
          ],
          "name": "stdout"
        }
      ]
    },
    {
      "cell_type": "code",
      "metadata": {
        "id": "lCALTxhTLREt",
        "outputId": "64ef61bd-ae10-46bb-baf3-41a9acdc1725",
        "colab": {
          "base_uri": "https://localhost:8080/",
          "height": 34
        }
      },
      "source": [
        "# Get top sentences\n",
        "sentence_rank = {}\n",
        "\n",
        "for sentence in doc.sents:\n",
        "    for word in sentence :\n",
        "        if word.text.lower() in word_frequency.keys():\n",
        "            if sentence in sentence_rank.keys():\n",
        "                sentence_rank[sentence] += word_frequency[word.text.lower()]\n",
        "\n",
        "            else:\n",
        "                sentence_rank[sentence] = word_frequency[word.text.lower()]\n",
        "\n",
        "top_sentences = (sorted(sentence_rank.values())[::-1])[:3]\n",
        "\n",
        "print(top_sentences)"
      ],
      "execution_count": 57,
      "outputs": [
        {
          "output_type": "stream",
          "text": [
            "[4.083333333333333, 3.166666666666667, 2.833333333333333]\n"
          ],
          "name": "stdout"
        }
      ]
    },
    {
      "cell_type": "code",
      "metadata": {
        "id": "RcgDWH0sNB2z",
        "outputId": "d68de7df-0a1f-44f4-f6ea-53f20e759c97",
        "colab": {
          "base_uri": "https://localhost:8080/",
          "height": 54
        }
      },
      "source": [
        "# Generate summary\n",
        "summary = []\n",
        "\n",
        "for sentence, frequency in sentence_rank.items():\n",
        "    if frequency in top_sentences:\n",
        "        summary.append(sentence)\n",
        "\n",
        "    else:\n",
        "        continue\n",
        "\n",
        "print(summary)"
      ],
      "execution_count": 58,
      "outputs": [
        {
          "output_type": "stream",
          "text": [
            "[Unter Studium (lateinisch studere „[nach etwas] streben, sich [um etwas] bemühen“) wird primär das wissenschaftliche Lernen und Forschen an Universitäten und anderen Hochschulen sowie diesen gleichgestellten Akademien verstanden., So liegt sie in Deutschland auf Länderebene, in der Schweiz liegt die Zuständigkeit mit Ausnahme der beiden Eidgenössischen Technischen Hochschulen auf kantonaler Ebene, in Österreich liegt die ganze Bildung in der Zuständigkeit des Bundes., Seit dem Beginn der Vereinheitlichung der europäischen Hochschulbildung im Rahmen des Bologna-Prozesses (seit 1999) unterscheidet man auch in Deutschland zwischen einem grundständigen Studium (Bachelor, Diplom, Magister, erstes Staatsexamen, Lizenziat, Baccalaureus/Bachelor) und einem darauf aufbauenden postgradualen Studium (Master).]\n"
          ],
          "name": "stdout"
        }
      ]
    },
    {
      "cell_type": "code",
      "metadata": {
        "id": "PdeVh26wNV2e",
        "outputId": "459082f8-0151-46e4-c42d-a02415242544",
        "colab": {
          "base_uri": "https://localhost:8080/",
          "height": 54
        }
      },
      "source": [
        "# Export summary\n",
        "for sentence in summary:\n",
        "    print(sentence, end=\" \")"
      ],
      "execution_count": 59,
      "outputs": [
        {
          "output_type": "stream",
          "text": [
            "Unter Studium (lateinisch studere „[nach etwas] streben, sich [um etwas] bemühen“) wird primär das wissenschaftliche Lernen und Forschen an Universitäten und anderen Hochschulen sowie diesen gleichgestellten Akademien verstanden. So liegt sie in Deutschland auf Länderebene, in der Schweiz liegt die Zuständigkeit mit Ausnahme der beiden Eidgenössischen Technischen Hochschulen auf kantonaler Ebene, in Österreich liegt die ganze Bildung in der Zuständigkeit des Bundes. Seit dem Beginn der Vereinheitlichung der europäischen Hochschulbildung im Rahmen des Bologna-Prozesses (seit 1999) unterscheidet man auch in Deutschland zwischen einem grundständigen Studium (Bachelor, Diplom, Magister, erstes Staatsexamen, Lizenziat, Baccalaureus/Bachelor) und einem darauf aufbauenden postgradualen Studium (Master). "
          ],
          "name": "stdout"
        }
      ]
    },
    {
      "cell_type": "markdown",
      "metadata": {
        "id": "LCDqcYSSC7P6"
      },
      "source": [
        "# Neural Networks Based Automatic Text Summarization"
      ]
    },
    {
      "cell_type": "markdown",
      "metadata": {
        "id": "CNgV9UByDDIi"
      },
      "source": [
        "**TBD**\n",
        "\n",
        "*   TBD\n",
        "*   TBD"
      ]
    },
    {
      "cell_type": "code",
      "metadata": {
        "id": "2uZHPvVTDEV0"
      },
      "source": [
        ""
      ],
      "execution_count": null,
      "outputs": []
    }
  ]
}