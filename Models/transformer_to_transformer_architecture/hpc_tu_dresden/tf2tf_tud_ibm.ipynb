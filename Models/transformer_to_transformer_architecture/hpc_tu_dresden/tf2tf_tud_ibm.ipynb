{
 "cells": [
  {
   "cell_type": "code",
   "execution_count": 7,
   "id": "sexual-printer",
   "metadata": {},
   "outputs": [],
   "source": [
    "# Info: Read the docs to see the full installation process ..."
   ]
  },
  {
   "cell_type": "code",
   "execution_count": 3,
   "id": "talented-pitch",
   "metadata": {},
   "outputs": [],
   "source": [
    "# Imports\n",
    "import pandas as pd\n",
    "import datasets\n",
    "import csv\n",
    "\n",
    "from IPython.display import display, HTML\n",
    "from transformers import EncoderDecoderModel, BertTokenizer, BertTokenizerFast, DistilBertTokenizer, DistilBertTokenizerFast\n",
    "from datasets import ClassLabel"
   ]
  },
  {
   "cell_type": "code",
   "execution_count": 4,
   "id": "overhead-delight",
   "metadata": {},
   "outputs": [
    {
     "name": "stdout",
     "output_type": "stream",
     "text": [
      "Device: cuda\n"
     ]
    }
   ],
   "source": [
    "# Test CUDA\n",
    "import torch\n",
    "\n",
    "device = torch.device(\"cuda\" if torch.cuda.is_available() else \"cpu\")\n",
    "torch.cuda.empty_cache()\n",
    "print(\"Device:\", device)"
   ]
  },
  {
   "cell_type": "code",
   "execution_count": 5,
   "id": "ahead-annex",
   "metadata": {},
   "outputs": [],
   "source": [
    "# Load swiss data\n",
    "path_corpus = \"data_train.csv\"\n",
    "\n",
    "data_txt = []\n",
    "data_ref = []\n",
    "\n",
    "with open(\"data_train.csv\", \"r\", encoding=\"utf-8\") as f:\n",
    "    reader = csv.reader(f, delimiter=\",\", quoting=csv.QUOTE_ALL)\n",
    "    next(reader, None)\n",
    "\n",
    "    for row in reader:\n",
    "        data_txt.append(row[0])\n",
    "        data_ref.append(row[1])\n",
    "\n",
    "tuples = list(zip(data_txt, data_ref))\n",
    "dataframe = pd.DataFrame(tuples, columns=[\"article\", \"highlights\"])"
   ]
  },
  {
   "cell_type": "code",
   "execution_count": 6,
   "id": "circular-rachel",
   "metadata": {},
   "outputs": [],
   "source": [
    "# Load german data\n",
    "tuples = pd.read_excel(\"data_train_test.xlsx\", engine=\"openpyxl\")\n",
    "del tuples[\"Unnamed: 0\"]\n",
    "dataframe = pd.concat([dataframe, tuples])\n",
    "dataframe = dataframe.dropna()"
   ]
  },
  {
   "cell_type": "code",
   "execution_count": 8,
   "id": "entertaining-finder",
   "metadata": {},
   "outputs": [
    {
     "ename": "AttributeError",
     "evalue": "module 'datasets' has no attribute 'Dataset'",
     "output_type": "error",
     "traceback": [
      "\u001b[0;31m---------------------------------------------------------------------------\u001b[0m",
      "\u001b[0;31mAttributeError\u001b[0m                            Traceback (most recent call last)",
      "\u001b[0;32m<ipython-input-8-9f56fe887788>\u001b[0m in \u001b[0;36m<module>\u001b[0;34m\u001b[0m\n\u001b[1;32m      1\u001b[0m \u001b[0;31m# Concat swiss and german data\u001b[0m\u001b[0;34m\u001b[0m\u001b[0;34m\u001b[0m\u001b[0;34m\u001b[0m\u001b[0m\n\u001b[0;32m----> 2\u001b[0;31m \u001b[0mgerman_data\u001b[0m \u001b[0;34m=\u001b[0m \u001b[0mdatasets\u001b[0m\u001b[0;34m.\u001b[0m\u001b[0mDataset\u001b[0m\u001b[0;34m.\u001b[0m\u001b[0mfrom_pandas\u001b[0m\u001b[0;34m(\u001b[0m\u001b[0mdataframe\u001b[0m\u001b[0;34m[\u001b[0m\u001b[0;34m[\u001b[0m\u001b[0;34m\"article\"\u001b[0m\u001b[0;34m,\u001b[0m \u001b[0;34m\"highlights\"\u001b[0m\u001b[0;34m]\u001b[0m\u001b[0;34m]\u001b[0m\u001b[0;34m)\u001b[0m\u001b[0;34m\u001b[0m\u001b[0;34m\u001b[0m\u001b[0m\n\u001b[0m\u001b[1;32m      3\u001b[0m \u001b[0mgerman_data\u001b[0m \u001b[0;34m=\u001b[0m \u001b[0mgerman_data\u001b[0m\u001b[0;34m.\u001b[0m\u001b[0mshuffle\u001b[0m\u001b[0;34m(\u001b[0m\u001b[0;34m)\u001b[0m\u001b[0;34m\u001b[0m\u001b[0;34m\u001b[0m\u001b[0m\n\u001b[1;32m      4\u001b[0m \u001b[0mprint\u001b[0m\u001b[0;34m(\u001b[0m\u001b[0mdataframe\u001b[0m\u001b[0;34m)\u001b[0m\u001b[0;34m\u001b[0m\u001b[0;34m\u001b[0m\u001b[0m\n",
      "\u001b[0;31mAttributeError\u001b[0m: module 'datasets' has no attribute 'Dataset'"
     ]
    }
   ],
   "source": [
    "# Concat swiss and german data\n",
    "german_data = datasets.arrow_dataset.Dataset.from_pandas(dataframe[[\"article\", \"highlights\"]])\n",
    "german_data = german_data.shuffle()\n",
    "print(dataframe)"
   ]
  },
  {
   "cell_type": "code",
   "execution_count": null,
   "id": "individual-burlington",
   "metadata": {},
   "outputs": [],
   "source": [
    "# Split data\n",
    "train_data = german_data.select(range(0, 85000))\n",
    "val_data = german_data.select(range(85000, 95000))\n",
    "test_data = german_data.select(range(95000, 100000))"
   ]
  },
  {
   "cell_type": "code",
   "execution_count": null,
   "id": "grave-democrat",
   "metadata": {},
   "outputs": [],
   "source": [
    "# Load english data\n",
    "'''\n",
    "train_data = datasets.load_dataset(\"cnn_dailymail\", \"3.0.0\", split=\"train\")\n",
    "val_data = datasets.load_dataset(\"cnn_dailymail\", \"3.0.0\", split=\"validation[:10%]\")\n",
    "test_data = datasets.load_dataset(\"cnn_dailymail\", \"3.0.0\", split=\"test[:5%]\")\n",
    "'''"
   ]
  },
  {
   "cell_type": "code",
   "execution_count": null,
   "id": "passive-receipt",
   "metadata": {},
   "outputs": [],
   "source": [
    "# Explore corpus\n",
    "df = pd.DataFrame(train_data)\n",
    "\n",
    "text_list = []\n",
    "summary_list = []\n",
    "\n",
    "for index, row in df.iterrows():\n",
    "    text = row[\"article\"]\n",
    "    summary = row[\"highlights\"]\n",
    "    text_list.append(len(text))\n",
    "    summary_list.append(len(summary))\n",
    "    \n",
    "print(sum(text_list) / len(text_list))\n",
    "print(sum(summary_list) / len(summary_list))"
   ]
  },
  {
   "cell_type": "code",
   "execution_count": null,
   "id": "analyzed-documentary",
   "metadata": {},
   "outputs": [],
   "source": [
    "# Explore corpus\n",
    "train_data.info.description\n",
    "df = pd.DataFrame(train_data[:1])\n",
    "\n",
    "# del df[\"id\"]\n",
    "\n",
    "for column, typ in train_data.features.items():\n",
    "    if isinstance(typ, ClassLabel):\n",
    "        df[column] = df[column].transform(lambda i: typ.names[i])\n",
    "\n",
    "display(HTML(df.to_html()))"
   ]
  },
  {
   "cell_type": "code",
   "execution_count": null,
   "id": "decimal-infection",
   "metadata": {},
   "outputs": [],
   "source": [
    "# Load tokenizer\n",
    "tokenizer = BertTokenizerFast.from_pretrained(\"bert-base-multilingual-cased\")"
   ]
  },
  {
   "cell_type": "code",
   "execution_count": null,
   "id": "encouraging-custom",
   "metadata": {},
   "outputs": [],
   "source": [
    "# Prepare data\n",
    "encoder_max_length = 512\n",
    "decoder_max_length = 128\n",
    "batch_size = 4 # 16\n",
    "\n",
    "def process_data_to_model_inputs(batch):\n",
    "    inputs = tokenizer(batch[\"article\"], padding=\"max_length\", truncation=True, max_length=encoder_max_length)\n",
    "    outputs = tokenizer(batch[\"highlights\"], padding=\"max_length\", truncation=True, max_length=decoder_max_length)\n",
    "\n",
    "    batch[\"input_ids\"] = inputs.input_ids\n",
    "    batch[\"attention_mask\"] = inputs.attention_mask\n",
    "    batch[\"decoder_input_ids\"] = outputs.input_ids\n",
    "    batch[\"decoder_attention_mask\"] = outputs.attention_mask\n",
    "    batch[\"labels\"] = outputs.input_ids.copy()\n",
    "    batch[\"labels\"] = [[-100 if token == tokenizer.pad_token_id else token for token in labels] for labels in batch[\"labels\"]]\n",
    "\n",
    "    return batch"
   ]
  },
  {
   "cell_type": "code",
   "execution_count": null,
   "id": "covered-bradley",
   "metadata": {},
   "outputs": [],
   "source": [
    "# Training data\n",
    "train_data = train_data.shuffle()\n",
    "\n",
    "train_data = train_data.map(\n",
    "    process_data_to_model_inputs, \n",
    "    batched=True, \n",
    "    batch_size=batch_size, \n",
    "    remove_columns=[\"article\", \"highlights\"] # \"id\"\n",
    ")\n",
    "\n",
    "train_data.set_format(\n",
    "    type=\"torch\",\n",
    "    columns=[\"input_ids\",\n",
    "             \"attention_mask\",\n",
    "             \"decoder_input_ids\",\n",
    "             \"decoder_attention_mask\",\n",
    "             \"labels\"]\n",
    ")"
   ]
  },
  {
   "cell_type": "code",
   "execution_count": null,
   "id": "continuing-chancellor",
   "metadata": {},
   "outputs": [],
   "source": [
    "# Validation data\n",
    "val_data = val_data.shuffle()\n",
    "\n",
    "val_data = val_data.map(\n",
    "    process_data_to_model_inputs, \n",
    "    batched=True, \n",
    "    remove_columns=[\"article\", \"highlights\"] # id\n",
    ")\n",
    "\n",
    "val_data.set_format(\n",
    "    type=\"torch\",\n",
    "    columns=[\"input_ids\",\n",
    "             \"attention_mask\",\n",
    "             \"decoder_input_ids\",\n",
    "             \"decoder_attention_mask\",\n",
    "             \"labels\"]\n",
    ")\n",
    "\n",
    "val_data = val_data.select(range(2000))"
   ]
  },
  {
   "cell_type": "code",
   "execution_count": null,
   "id": "split-meditation",
   "metadata": {},
   "outputs": [],
   "source": [
    "# Load models\n",
    "tf2tf = EncoderDecoderModel.from_encoder_decoder_pretrained(\"bert-base-multilingual-cased\", \"bert-base-multilingual-cased\", tie_encoder_decoder=False)\n",
    "tf2tf.save_pretrained(\"bert2bert_multilingual\")\n",
    "tf2tf = EncoderDecoderModel.from_pretrained(\"bert2bert_multilingual\")"
   ]
  },
  {
   "cell_type": "code",
   "execution_count": null,
   "id": "herbal-slovak",
   "metadata": {},
   "outputs": [],
   "source": [
    "# Configure models\n",
    "tf2tf.config.decoder_start_token_id = tokenizer.cls_token_id\n",
    "tf2tf.config.eos_token_id = tokenizer.sep_token_id\n",
    "tf2tf.config.pad_token_id = tokenizer.pad_token_id\n",
    "tf2tf.config.vocab_size = tf2tf.config.encoder.vocab_size"
   ]
  },
  {
   "cell_type": "code",
   "execution_count": null,
   "id": "enabling-border",
   "metadata": {},
   "outputs": [],
   "source": [
    "# Configure beam search\n",
    "tf2tf.config.max_length = 142\n",
    "tf2tf.config.min_length = 56\n",
    "tf2tf.config.no_repeat_ngram_size = 3\n",
    "tf2tf.config.early_stopping = True\n",
    "tf2tf.config.length_penalty = 2.0\n",
    "tf2tf.config.num_beams = 4"
   ]
  },
  {
   "cell_type": "code",
   "execution_count": null,
   "id": "mobile-breeding",
   "metadata": {},
   "outputs": [],
   "source": [
    "# Prepare metric\n",
    "rouge = datasets.load_metric(\"rouge\")\n",
    "\n",
    "def compute_metrics(pred):\n",
    "    labels_ids = pred.label_ids\n",
    "    pred_ids = pred.predictions\n",
    "\n",
    "    pred_str = tokenizer.batch_decode(pred_ids, skip_special_tokens=True)\n",
    "    labels_ids[labels_ids == -100] = tokenizer.pad_token_id\n",
    "    label_str = tokenizer.batch_decode(labels_ids, skip_special_tokens=True)\n",
    "\n",
    "    rouge_output = rouge.compute(predictions=pred_str, references=label_str, rouge_types=[\"rouge2\"])[\"rouge2\"].mid\n",
    "\n",
    "    return {\n",
    "        \"rouge2_precision\": round(rouge_output.precision, 4),\n",
    "        \"rouge2_recall\": round(rouge_output.recall, 4),\n",
    "        \"rouge2_fmeasure\": round(rouge_output.fmeasure, 4),\n",
    "    }"
   ]
  },
  {
   "cell_type": "code",
   "execution_count": null,
   "id": "incomplete-edition",
   "metadata": {},
   "outputs": [],
   "source": [
    "# Load checkpoint\n",
    "from google.colab import drive\n",
    "\n",
    "path_drive = \"/content/drive\"\n",
    "drive.mount(path_drive)\n",
    "\n",
    "path_output = path_drive + \"/My Drive/Temp/Models\"\n",
    "path_checkpoint = path_output + \"/checkpoint-16000\"\n",
    "\n",
    "tf2tf = EncoderDecoderModel.from_pretrained(path_checkpoint)\n",
    "tf2tf.to(\"cuda\")"
   ]
  },
  {
   "cell_type": "code",
   "execution_count": null,
   "id": "intense-platform",
   "metadata": {},
   "outputs": [],
   "source": [
    "# Setup arguments\n",
    "from seq2seq_training_args import Seq2SeqTrainingArguments\n",
    "\n",
    "training_args = Seq2SeqTrainingArguments(\n",
    "    predict_with_generate=True,\n",
    "    evaluation_strategy=\"steps\",\n",
    "    per_device_train_batch_size=batch_size,\n",
    "    per_device_eval_batch_size=batch_size,\n",
    "    output_dir=path_output, # \"./\"\n",
    "    warmup_steps=1000,\n",
    "    save_steps=2000,\n",
    "    logging_steps=100,\n",
    "    eval_steps=2000,\n",
    "    save_total_limit=1,\n",
    "    fp16=True\n",
    ")"
   ]
  },
  {
   "cell_type": "code",
   "execution_count": null,
   "id": "finnish-spending",
   "metadata": {},
   "outputs": [],
   "source": [
    "# Start training\n",
    "from seq2seq_trainer import Seq2SeqTrainer\n",
    "\n",
    "trainer = Seq2SeqTrainer(\n",
    "    model=tf2tf,\n",
    "    args=training_args,\n",
    "    compute_metrics=compute_metrics,\n",
    "    train_dataset=train_data,\n",
    "    eval_dataset=val_data,\n",
    ")\n",
    "\n",
    "trainer.train()"
   ]
  },
  {
   "cell_type": "code",
   "execution_count": null,
   "id": "accepting-carolina",
   "metadata": {},
   "outputs": [],
   "source": [
    "# Evaluate training\n",
    "def generate_summary(batch):\n",
    "    inputs = tokenizer(batch[\"article\"], padding=\"max_length\", truncation=True, max_length=512, return_tensors=\"pt\")\n",
    "    input_ids = inputs.input_ids.to(\"cuda\")\n",
    "    attention_mask = inputs.attention_mask.to(\"cuda\")\n",
    "    \n",
    "    outputs = tf2tf.generate(input_ids, attention_mask=attention_mask)\n",
    "    output_str = tokenizer.batch_decode(outputs, skip_special_tokens=True)\n",
    "    batch[\"pred_summary\"] = output_str\n",
    "\n",
    "    return batch\n",
    "\n",
    "results = test_data.map(\n",
    "    generate_summary,\n",
    "    batched=True,\n",
    "    batch_size=batch_size,\n",
    "    remove_columns=[\"article\"]\n",
    ")\n",
    "\n",
    "print(results[0][\"pred_summary\"])\n",
    "print(results[0][\"highlights\"])\n",
    "print(\"====================\")\n",
    "\n",
    "rouge.compute(predictions=results[\"pred_summary\"], references=results[\"highlights\"], rouge_types=[\"rouge2\"])[\"rouge2\"].mid\n",
    "\n",
    "# tf2tf = EncoderDecoderModel.from_pretrained(\"patrickvonplaten/bert2bert_cnn_daily_mail\").to(\"cuda\")\n",
    "# tokenizer = BertTokenizer.from_pretrained(\"patrickvonplaten/bert2bert_cnn_daily_mail\")"
   ]
  }
 ],
 "metadata": {
  "kernelspec": {
   "display_name": "transformer-kernel",
   "language": "python",
   "name": "transformer-kernel"
  },
  "language_info": {
   "codemirror_mode": {
    "name": "ipython",
    "version": 3
   },
   "file_extension": ".py",
   "mimetype": "text/x-python",
   "name": "python",
   "nbconvert_exporter": "python",
   "pygments_lexer": "ipython3",
   "version": "3.6.10"
  }
 },
 "nbformat": 4,
 "nbformat_minor": 5
}
