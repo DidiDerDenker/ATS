{
 "cells": [
  {
   "cell_type": "code",
   "execution_count": 1,
   "metadata": {},
   "outputs": [
    {
     "name": "stdout",
     "output_type": "stream",
     "text": [
      "Defaulting to user installation because normal site-packages is not writeable\n",
      "Collecting tensorflow\n",
      "  Downloading tensorflow-2.4.1-cp36-cp36m-manylinux2010_x86_64.whl (394.3 MB)\n",
      "\u001b[K     |████████████████████████████████| 394.3 MB 13 kB/s s eta 0:00:01     |█                               | 11.5 MB 3.9 MB/s eta 0:01:39 |█                               | 13.4 MB 3.9 MB/s eta 0:01:3915.8 MB 3.9 MB/s eta 0:01:3818.5 MB 3.9 MB/s eta 0:01:3809 eta 0:00:08 25.0 MB 46.6 MB/s eta 0:00:08| 27.1 MB 46.6 MB/s eta 0:00:08��                             | 30.9 MB 46.6 MB/s eta 0:00:086.6 MB/s eta 0:00:080:08s eta 0:00:083 MB 46.6 MB/s eta 0:00:08                   | 43.1 MB 46.6 MB/s eta 0:00:08 MB 46.6 MB/s eta 0:00:08 MB 46.6 MB/s eta 0:00:08�███                            | 49.6 MB 46.6 MB/s eta 0:00:08██▏                           | 51.9 MB 46.6 MB/s eta 0:00:08eta 0:00:08�                           | 56.1 MB 46.6 MB/s eta 0:00:08 |████▉                           | 59.0 MB 46.6 MB/s eta 0:00:08    | 61.2 MB 46.6 MB/s eta 0:00:08     |█████▏                          | 63.6 MB 44.3 MB/s eta 0:00:08eta 0:00:08    |█████▋                          | 68.9 MB 44.3 MB/s eta 0:00:08         | 71.0 MB 44.3 MB/s eta 0:00:08    |██████                          | 72.7 MB 44.3 MB/s eta 0:00:088087 0:00:07B/s eta 0:00:07��                        | 92.6 MB 44.3 MB/s eta 0:00:0700:07 0:00:074.3 MB/s eta 0:00:07                | 105.6 MB 62.6 MB/s eta 0:00:05                | 108.1 MB 62.6 MB/s eta 0:00:05��█████                       | 110.3 MB 62.6 MB/s eta 0:00:05          | 113.4 MB 62.6 MB/s eta 0:00:05�██▍                      | 115.6 MB 62.6 MB/s eta 0:00:05  | 118.2 MB 62.6 MB/s eta 0:00:05��███▉                      | 120.6 MB 62.6 MB/s eta 0:00:05��████                      | 122.9 MB 62.6 MB/s eta 0:00:05                | 125.4 MB 62.6 MB/s eta 0:00:05MB/s eta 0:00:05| 130.3 MB 62.6 MB/s eta 0:00:05████████▊                     | 132.2 MB 62.6 MB/s eta 0:00:05MB/s eta 0:00:05█▏                    | 138.1 MB 62.6 MB/s eta 0:00:05                  | 140.2 MB 62.6 MB/s eta 0:00:05/s eta 0:00:05/s eta 0:00:04██                    | 147.8 MB 62.6 MB/s eta 0:00:04        | 164.6 MB 35.7 MB/s eta 0:00:077 MB/s eta 0:00:07�█████████▎                 | 175.9 MB 35.7 MB/s eta 0:00:07�█████████▊                 | 181.5 MB 35.7 MB/s eta 0:00:06          | 187.3 MB 29.3 MB/s eta 0:00:089.5 MB 29.3 MB/s eta 0:00:07�██████▌                | 191.2 MB 29.3 MB/s eta 0:00:07��█▋                | 192.5 MB 29.3 MB/s eta 0:00:07/s eta 0:00:07�               | 200.9 MB 29.3 MB/s eta 0:00:07�               | 202.9 MB 29.3 MB/s eta 0:00:07��▋               | 205.0 MB 29.3 MB/s eta 0:00:07��▉               | 207.1 MB 29.3 MB/s eta 0:00:07��█               | 209.1 MB 29.3 MB/s eta 0:00:07��█████████████▏              | 211.2 MB 29.3 MB/s eta 0:00:07��█████████████▎              | 213.2 MB 29.3 MB/s eta 0:00:07��██████████████              | 220.7 MB 34.1 MB/s eta 0:00:06██████████████▍           | 251.1 MB 20.0 MB/s eta 0:00:08�███████▍         | 275.4 MB 234 kB/s eta 0:08:26███████████████▌         | 277.4 MB 234 kB/s eta 0:08:18MB/s eta 0:00:04��█████████████▊    | 341.1 MB 22.9 MB/s eta 0:00:03ta 0:00:01ta 0:00:01�█▎ | 373.4 MB 33.4 MB/s eta 0:00:01�█▍ | 375.1 MB 33.4 MB/s eta 0:00:01�██ | 382.0 MB 33.4 MB/s eta 0:00:01��███████████▏| 383.5 MB 33.4 MB/s eta 0:00:01��███████████▎| 385.3 MB 33.4 MB/s eta 0:00:01��███████████▍| 387.0 MB 33.4 MB/s eta 0:00:01�████████████▉| 392.3 MB 33.4 MB/s eta 0:00:01\n",
      "\u001b[?25hRequirement already satisfied, skipping upgrade: gast==0.3.3 in /software/generic/JupyterHub/conda-env-20200804-1617/lib/python3.6/site-packages (from tensorflow) (0.3.3)\n",
      "Requirement already satisfied, skipping upgrade: keras-preprocessing~=1.1.2 in /software/generic/JupyterHub/conda-env-20200804-1617/lib/python3.6/site-packages (from tensorflow) (1.1.2)\n",
      "Requirement already satisfied, skipping upgrade: numpy~=1.19.2 in /software/generic/JupyterHub/conda-env-20200804-1617/lib/python3.6/site-packages (from tensorflow) (1.19.5)\n",
      "Requirement already satisfied, skipping upgrade: astunparse~=1.6.3 in /software/generic/JupyterHub/conda-env-20200804-1617/lib/python3.6/site-packages (from tensorflow) (1.6.3)\n",
      "Requirement already satisfied, skipping upgrade: wrapt~=1.12.1 in /software/generic/JupyterHub/conda-env-20200804-1617/lib/python3.6/site-packages (from tensorflow) (1.12.1)\n",
      "Requirement already satisfied, skipping upgrade: google-pasta~=0.2 in /software/generic/JupyterHub/conda-env-20200804-1617/lib/python3.6/site-packages (from tensorflow) (0.2.0)\n",
      "Requirement already satisfied, skipping upgrade: absl-py~=0.10 in /software/generic/JupyterHub/conda-env-20200804-1617/lib/python3.6/site-packages (from tensorflow) (0.11.0)\n",
      "Requirement already satisfied, skipping upgrade: protobuf>=3.9.2 in /software/generic/JupyterHub/conda-env-20200804-1617/lib/python3.6/site-packages (from tensorflow) (3.14.0)\n",
      "Requirement already satisfied, skipping upgrade: tensorboard~=2.4 in /software/generic/JupyterHub/conda-env-20200804-1617/lib/python3.6/site-packages (from tensorflow) (2.4.1)\n",
      "Requirement already satisfied, skipping upgrade: grpcio~=1.32.0 in /software/generic/JupyterHub/conda-env-20200804-1617/lib/python3.6/site-packages (from tensorflow) (1.32.0)\n",
      "Requirement already satisfied, skipping upgrade: flatbuffers~=1.12.0 in /software/generic/JupyterHub/conda-env-20200804-1617/lib/python3.6/site-packages (from tensorflow) (1.12)\n",
      "Requirement already satisfied, skipping upgrade: tensorflow-estimator<2.5.0,>=2.4.0 in /software/generic/JupyterHub/conda-env-20200804-1617/lib/python3.6/site-packages (from tensorflow) (2.4.0)\n",
      "Requirement already satisfied, skipping upgrade: termcolor~=1.1.0 in /software/generic/JupyterHub/conda-env-20200804-1617/lib/python3.6/site-packages (from tensorflow) (1.1.0)\n",
      "Requirement already satisfied, skipping upgrade: h5py~=2.10.0 in /software/generic/JupyterHub/conda-env-20200804-1617/lib/python3.6/site-packages (from tensorflow) (2.10.0)\n",
      "Requirement already satisfied, skipping upgrade: wheel~=0.35 in /software/generic/JupyterHub/conda-env-20200804-1617/lib/python3.6/site-packages (from tensorflow) (0.35.1)\n",
      "Requirement already satisfied, skipping upgrade: opt-einsum~=3.3.0 in /software/generic/JupyterHub/conda-env-20200804-1617/lib/python3.6/site-packages (from tensorflow) (3.3.0)\n",
      "Requirement already satisfied, skipping upgrade: typing-extensions~=3.7.4 in /software/generic/JupyterHub/conda-env-20200804-1617/lib/python3.6/site-packages (from tensorflow) (3.7.4.2)\n",
      "Requirement already satisfied, skipping upgrade: six~=1.15.0 in ./.local/lib/python3.6/site-packages (from tensorflow) (1.15.0)\n",
      "Requirement already satisfied, skipping upgrade: google-auth<2,>=1.6.3 in /software/generic/JupyterHub/conda-env-20200804-1617/lib/python3.6/site-packages (from tensorboard~=2.4->tensorflow) (1.24.0)\n",
      "Requirement already satisfied, skipping upgrade: setuptools>=41.0.0 in /software/generic/JupyterHub/conda-env-20200804-1617/lib/python3.6/site-packages (from tensorboard~=2.4->tensorflow) (49.6.0.post20200814)\n",
      "Requirement already satisfied, skipping upgrade: google-auth-oauthlib<0.5,>=0.4.1 in /software/generic/JupyterHub/conda-env-20200804-1617/lib/python3.6/site-packages (from tensorboard~=2.4->tensorflow) (0.4.2)\n",
      "Requirement already satisfied, skipping upgrade: tensorboard-plugin-wit>=1.6.0 in /software/generic/JupyterHub/conda-env-20200804-1617/lib/python3.6/site-packages (from tensorboard~=2.4->tensorflow) (1.7.0)\n",
      "Requirement already satisfied, skipping upgrade: requests<3,>=2.21.0 in /software/generic/JupyterHub/conda-env-20200804-1617/lib/python3.6/site-packages (from tensorboard~=2.4->tensorflow) (2.22.0)\n",
      "Requirement already satisfied, skipping upgrade: markdown>=2.6.8 in /software/generic/JupyterHub/conda-env-20200804-1617/lib/python3.6/site-packages (from tensorboard~=2.4->tensorflow) (3.1.1)\n",
      "Requirement already satisfied, skipping upgrade: werkzeug>=0.11.15 in /software/generic/JupyterHub/conda-env-20200804-1617/lib/python3.6/site-packages (from tensorboard~=2.4->tensorflow) (0.16.0)\n",
      "Requirement already satisfied, skipping upgrade: rsa<5,>=3.1.4; python_version >= \"3.6\" in /software/generic/JupyterHub/conda-env-20200804-1617/lib/python3.6/site-packages (from google-auth<2,>=1.6.3->tensorboard~=2.4->tensorflow) (4.7)\n",
      "Requirement already satisfied, skipping upgrade: cachetools<5.0,>=2.0.0 in /software/generic/JupyterHub/conda-env-20200804-1617/lib/python3.6/site-packages (from google-auth<2,>=1.6.3->tensorboard~=2.4->tensorflow) (4.2.0)\n",
      "Requirement already satisfied, skipping upgrade: pyasn1-modules>=0.2.1 in /software/generic/JupyterHub/conda-env-20200804-1617/lib/python3.6/site-packages (from google-auth<2,>=1.6.3->tensorboard~=2.4->tensorflow) (0.2.8)\n",
      "Requirement already satisfied, skipping upgrade: requests-oauthlib>=0.7.0 in /software/generic/JupyterHub/conda-env-20200804-1617/lib/python3.6/site-packages (from google-auth-oauthlib<0.5,>=0.4.1->tensorboard~=2.4->tensorflow) (1.3.0)\n",
      "Requirement already satisfied, skipping upgrade: certifi>=2017.4.17 in /software/generic/JupyterHub/conda-env-20200804-1617/lib/python3.6/site-packages (from requests<3,>=2.21.0->tensorboard~=2.4->tensorflow) (2020.6.20)\n",
      "Requirement already satisfied, skipping upgrade: urllib3!=1.25.0,!=1.25.1,<1.26,>=1.21.1 in /software/generic/JupyterHub/conda-env-20200804-1617/lib/python3.6/site-packages (from requests<3,>=2.21.0->tensorboard~=2.4->tensorflow) (1.25.10)\n",
      "Requirement already satisfied, skipping upgrade: idna<2.9,>=2.5 in /software/generic/JupyterHub/conda-env-20200804-1617/lib/python3.6/site-packages (from requests<3,>=2.21.0->tensorboard~=2.4->tensorflow) (2.8)\n",
      "Requirement already satisfied, skipping upgrade: chardet<3.1.0,>=3.0.2 in /software/generic/JupyterHub/conda-env-20200804-1617/lib/python3.6/site-packages (from requests<3,>=2.21.0->tensorboard~=2.4->tensorflow) (3.0.4)\n",
      "Requirement already satisfied, skipping upgrade: pyasn1>=0.1.3 in /software/generic/JupyterHub/conda-env-20200804-1617/lib/python3.6/site-packages (from rsa<5,>=3.1.4; python_version >= \"3.6\"->google-auth<2,>=1.6.3->tensorboard~=2.4->tensorflow) (0.4.8)\n",
      "Requirement already satisfied, skipping upgrade: oauthlib>=3.0.0 in /software/generic/JupyterHub/conda-env-20200804-1617/lib/python3.6/site-packages (from requests-oauthlib>=0.7.0->google-auth-oauthlib<0.5,>=0.4.1->tensorboard~=2.4->tensorflow) (3.1.0)\n",
      "Installing collected packages: tensorflow\n",
      "\u001b[33m  WARNING: The scripts estimator_ckpt_converter, import_pb_to_tensorboard, saved_model_cli, tensorboard, tf_upgrade_v2, tflite_convert, toco and toco_from_protos are installed in '/home/davo557d/.local/bin' which is not on PATH.\n",
      "  Consider adding this directory to PATH or, if you prefer to suppress this warning, use --no-warn-script-location.\u001b[0m\n",
      "\u001b[31mERROR: After October 2020 you may experience errors when installing or updating packages. This is because pip will change the way that it resolves dependency conflicts.\n",
      "\n",
      "We recommend you use --use-feature=2020-resolver to test your packages with the new resolver before it becomes the default.\n",
      "\n",
      "tensorflow-serving-api 2.1.0 requires tensorflow~=2.1.0, but you'll have tensorflow 2.4.1 which is incompatible.\u001b[0m\n",
      "Successfully installed tensorflow-2.4.1\n",
      "Defaulting to user installation because normal site-packages is not writeable\n",
      "Collecting tensorflow-gpu\n",
      "  Downloading tensorflow_gpu-2.4.1-cp36-cp36m-manylinux2010_x86_64.whl (394.3 MB)\n",
      "\u001b[K     |████████████████████████████████| 394.3 MB 14 kB/s s eta 0:00:01     |█                               | 12.0 MB 4.2 MB/s eta 0:01:31              | 13.9 MB 4.2 MB/s eta 0:01:3015.6 MB 4.2 MB/s eta 0:01:30                  | 18.0 MB 4.2 MB/s eta 0:01:2920.2 MB 4.2 MB/s eta 0:01:29          | 22.7 MB 4.2 MB/s eta 0:01:2824.7 MB 4.2 MB/s eta 0:01:2800:08s eta 0:00:08                       | 31.1 MB 49.3 MB/s eta 0:00:0832.9 MB 49.3 MB/s eta 0:00:08                       | 34.8 MB 49.3 MB/s eta 0:00:08                       | 36.9 MB 49.3 MB/s eta 0:00:08 MB 49.3 MB/s eta 0:00:08 MB 49.3 MB/s eta 0:00:08s eta 0:00:08.3 MB/s eta 0:00:08�█                            | 49.9 MB 49.3 MB/s eta 0:00:07██▏                           | 51.7 MB 49.3 MB/s eta 0:00:07 |████▍                           | 54.5 MB 49.3 MB/s eta 0:00:07 |████▋                           | 56.6 MB 49.3 MB/s eta 0:00:07.0 MB 49.3 MB/s eta 0:00:07         | 64.4 MB 49.3 MB/s eta 0:00:07    |█████▍                          | 67.0 MB 42.4 MB/s eta 0:00:08▋                          | 69.0 MB 42.4 MB/s eta 0:00:08    | 71.9 MB 42.4 MB/s eta 0:00:08.4 MB/s eta 0:00:08a 0:00:0888842.4 MB/s eta 0:00:08ta 0:00:08��                        | 96.1 MB 42.4 MB/s eta 0:00:08                | 98.7 MB 42.4 MB/s eta 0:00:07MB 42.4 MB/s eta 0:00:07 0:00:07██▌                       | 105.1 MB 42.4 MB/s eta 0:00:07                    | 109.6 MB 42.4 MB/s eta 0:00:07    | 112.3 MB 42.4 MB/s eta 0:00:07��███▎                      | 114.2 MB 42.4 MB/s eta 0:00:07��███▌                      | 116.7 MB 42.4 MB/s eta 0:00:07��███████▊                      | 119.7 MB 42.4 MB/s eta 0:00:07██████████                      | 121.9 MB 42.4 MB/s eta 0:00:07��████                      | 124.2 MB 42.4 MB/s eta 0:00:07��██▎                     | 126.5 MB 42.4 MB/s eta 0:00:07��██▋                     | 130.3 MB 42.4 MB/s eta 0:00:07                | 133.2 MB 42.4 MB/s eta 0:00:07█████████                     | 136.2 MB 42.4 MB/s eta 0:00:07/s eta 0:00:07| 142.0 MB 42.4 MB/s eta 0:00:06     |███████████▊                    | 145.1 MB 42.4 MB/s eta 0:00:06██                    | 147.5 MB 52.5 MB/s eta 0:00:050 MB 52.5 MB/s eta 0:00:05��█▎                  | 162.9 MB 52.5 MB/s eta 0:00:05        | 166.2 MB 52.5 MB/s eta 0:00:05 |█████████████▋                  | 168.0 MB 52.5 MB/s eta 0:00:05/s eta 0:00:055 MB/s eta 0:00:05�█▏                 | 174.5 MB 52.5 MB/s eta 0:00:05MB/s eta 0:00:05�█████████▋                 | 179.7 MB 52.5 MB/s eta 0:00:05                | 181.7 MB 52.5 MB/s eta 0:00:05█████████████                 | 183.6 MB 52.5 MB/s eta 0:00:05MB 52.5 MB/s eta 0:00:04███████████▎                | 188.6 MB 52.5 MB/s eta 0:00:04/s eta 0:00:06�██████▊                | 193.1 MB 37.0 MB/s eta 0:00:06:00:06/s eta 0:00:06 |████████████████▎               | 200.8 MB 37.0 MB/s eta 0:00:06 |████████████████▌               | 202.9 MB 37.0 MB/s eta 0:00:06�               | 205.2 MB 37.0 MB/s eta 0:00:06�███████████▉               | 206.9 MB 37.0 MB/s eta 0:00:06��█               | 209.9 MB 37.0 MB/s eta 0:00:05��█████████████▎              | 212.4 MB 37.0 MB/s eta 0:00:057.0 MB/s eta 0:00:05��█████████████▋              | 216.5 MB 37.0 MB/s eta 0:00:05███████▊              | 218.7 MB 37.0 MB/s eta 0:00:05�███████████              | 221.3 MB 37.0 MB/s eta 0:00:05| 223.6 MB 37.0 MB/s eta 0:00:05MB/s eta 0:00:05��██████████▌             | 228.1 MB 37.0 MB/s eta 0:00:05MB/s eta 0:00:06MB/s eta 0:00:06��███████████▏            | 235.5 MB 29.5 MB/s eta 0:00:06��█▍            | 238.2 MB 29.5 MB/s eta 0:00:06�██▌            | 240.2 MB 29.5 MB/s eta 0:00:06   |███████████████████▊            | 242.4 MB 29.5 MB/s eta 0:00:06��███▉            | 244.2 MB 29.5 MB/s eta 0:00:06          | 247.1 MB 29.5 MB/s eta 0:00:0505████████▍           | 251.2 MB 29.5 MB/s eta 0:00:05████████████▋           | 253.3 MB 29.5 MB/s eta 0:00:05ta 0:00:05███████████████           | 258.7 MB 29.5 MB/s eta 0:00:05 29.5 MB/s eta 0:00:05:00:05:00:05:00:05:00:05��██████████████████▏         | 272.9 MB 48.1 MB/s eta 0:00:03        | 275.0 MB 48.1 MB/s eta 0:00:03        | 279.1 MB 48.1 MB/s eta 0:00:03��███████████         | 283.4 MB 48.1 MB/s eta 0:00:03�██████▏        | 285.1 MB 48.1 MB/s eta 0:00:03��███████████▎        | 287.4 MB 48.1 MB/s eta 0:00:03�██████████▌        | 289.7 MB 48.1 MB/s eta 0:00:03�███████████        | 296.4 MB 48.1 MB/s eta 0:00:03██████████████████████▍       | 300.4 MB 48.1 MB/s eta 0:00:02��████████████████████▊       | 304.2 MB 48.1 MB/s eta 0:00:02██████████████████████▉       | 306.0 MB 48.1 MB/s eta 0:00:02███████████████████████       | 307.9 MB 28.7 MB/s eta 0:00:04| 313.8 MB 28.7 MB/s eta 0:00:03MB/s eta 0:00:03��█████████████▉      | 317.9 MB 28.7 MB/s eta 0:00:03��██▎     | 323.9 MB 28.7 MB/s eta 0:00:03MB/s eta 0:00:03��███     | 331.6 MB 28.7 MB/s eta 0:00:03��█████████████▏    | 335.3 MB 28.7 MB/s eta 0:00:03��███████████████████████▍    | 336.9 MB 28.7 MB/s eta 0:00:02��█████████████▌    | 339.4 MB 28.7 MB/s eta 0:00:02341.4 MB 28.7 MB/s eta 0:00:02��████████████████████████▏   | 347.4 MB 43.4 MB/s eta 0:00:02��████████████████████████▍   | 349.4 MB 43.4 MB/s eta 0:00:02��████████████████████████▊   | 353.3 MB 43.4 MB/s eta 0:00:01███████████████████   | 357.1 MB 43.4 MB/s eta 0:00:01ta 0:00:01█▎  | 361.1 MB 43.4 MB/s eta 0:00:01ta 0:00:013.4 MB/s eta 0:00:01ta 0:00:01�█████  | 369.5 MB 43.4 MB/s eta 0:00:01:00:01�█████████▎ | 373.6 MB 43.4 MB/s eta 0:00:01�█▌ | 375.8 MB 43.4 MB/s eta 0:00:01�█▊ | 378.0 MB 43.4 MB/s eta 0:00:01�█▉ | 379.9 MB 43.4 MB/s eta 0:00:01��███████████▏| 384.1 MB 22.6 MB/s eta 0:00:01��███████████▍| 386.9 MB 22.6 MB/s eta 0:00:01��███████████▋| 389.0 MB 22.6 MB/s eta 0:00:01��███████████▊| 391.2 MB 22.6 MB/s eta 0:00:01��████████████| 393.9 MB 22.6 MB/s eta 0:00:01\n",
      "\u001b[?25hRequirement already satisfied: protobuf>=3.9.2 in /software/generic/JupyterHub/conda-env-20200804-1617/lib/python3.6/site-packages (from tensorflow-gpu) (3.14.0)\n",
      "Requirement already satisfied: typing-extensions~=3.7.4 in /software/generic/JupyterHub/conda-env-20200804-1617/lib/python3.6/site-packages (from tensorflow-gpu) (3.7.4.2)\n",
      "Requirement already satisfied: numpy~=1.19.2 in /software/generic/JupyterHub/conda-env-20200804-1617/lib/python3.6/site-packages (from tensorflow-gpu) (1.19.5)\n",
      "Requirement already satisfied: tensorflow-estimator<2.5.0,>=2.4.0 in /software/generic/JupyterHub/conda-env-20200804-1617/lib/python3.6/site-packages (from tensorflow-gpu) (2.4.0)\n",
      "Requirement already satisfied: grpcio~=1.32.0 in /software/generic/JupyterHub/conda-env-20200804-1617/lib/python3.6/site-packages (from tensorflow-gpu) (1.32.0)\n",
      "Requirement already satisfied: h5py~=2.10.0 in /software/generic/JupyterHub/conda-env-20200804-1617/lib/python3.6/site-packages (from tensorflow-gpu) (2.10.0)\n",
      "Requirement already satisfied: tensorboard~=2.4 in /software/generic/JupyterHub/conda-env-20200804-1617/lib/python3.6/site-packages (from tensorflow-gpu) (2.4.1)\n",
      "Requirement already satisfied: absl-py~=0.10 in /software/generic/JupyterHub/conda-env-20200804-1617/lib/python3.6/site-packages (from tensorflow-gpu) (0.11.0)\n",
      "Requirement already satisfied: astunparse~=1.6.3 in /software/generic/JupyterHub/conda-env-20200804-1617/lib/python3.6/site-packages (from tensorflow-gpu) (1.6.3)\n",
      "Requirement already satisfied: opt-einsum~=3.3.0 in /software/generic/JupyterHub/conda-env-20200804-1617/lib/python3.6/site-packages (from tensorflow-gpu) (3.3.0)\n",
      "Requirement already satisfied: six~=1.15.0 in ./.local/lib/python3.6/site-packages (from tensorflow-gpu) (1.15.0)\n",
      "Requirement already satisfied: wheel~=0.35 in /software/generic/JupyterHub/conda-env-20200804-1617/lib/python3.6/site-packages (from tensorflow-gpu) (0.35.1)\n",
      "Requirement already satisfied: google-pasta~=0.2 in /software/generic/JupyterHub/conda-env-20200804-1617/lib/python3.6/site-packages (from tensorflow-gpu) (0.2.0)\n",
      "Requirement already satisfied: gast==0.3.3 in /software/generic/JupyterHub/conda-env-20200804-1617/lib/python3.6/site-packages (from tensorflow-gpu) (0.3.3)\n",
      "Requirement already satisfied: keras-preprocessing~=1.1.2 in /software/generic/JupyterHub/conda-env-20200804-1617/lib/python3.6/site-packages (from tensorflow-gpu) (1.1.2)\n",
      "Requirement already satisfied: wrapt~=1.12.1 in /software/generic/JupyterHub/conda-env-20200804-1617/lib/python3.6/site-packages (from tensorflow-gpu) (1.12.1)\n",
      "Requirement already satisfied: flatbuffers~=1.12.0 in /software/generic/JupyterHub/conda-env-20200804-1617/lib/python3.6/site-packages (from tensorflow-gpu) (1.12)\n",
      "Requirement already satisfied: termcolor~=1.1.0 in /software/generic/JupyterHub/conda-env-20200804-1617/lib/python3.6/site-packages (from tensorflow-gpu) (1.1.0)\n",
      "Requirement already satisfied: markdown>=2.6.8 in /software/generic/JupyterHub/conda-env-20200804-1617/lib/python3.6/site-packages (from tensorboard~=2.4->tensorflow-gpu) (3.1.1)\n",
      "Requirement already satisfied: google-auth<2,>=1.6.3 in /software/generic/JupyterHub/conda-env-20200804-1617/lib/python3.6/site-packages (from tensorboard~=2.4->tensorflow-gpu) (1.24.0)\n",
      "Requirement already satisfied: google-auth-oauthlib<0.5,>=0.4.1 in /software/generic/JupyterHub/conda-env-20200804-1617/lib/python3.6/site-packages (from tensorboard~=2.4->tensorflow-gpu) (0.4.2)\n",
      "Requirement already satisfied: requests<3,>=2.21.0 in /software/generic/JupyterHub/conda-env-20200804-1617/lib/python3.6/site-packages (from tensorboard~=2.4->tensorflow-gpu) (2.22.0)\n",
      "Requirement already satisfied: tensorboard-plugin-wit>=1.6.0 in /software/generic/JupyterHub/conda-env-20200804-1617/lib/python3.6/site-packages (from tensorboard~=2.4->tensorflow-gpu) (1.7.0)\n",
      "Requirement already satisfied: werkzeug>=0.11.15 in /software/generic/JupyterHub/conda-env-20200804-1617/lib/python3.6/site-packages (from tensorboard~=2.4->tensorflow-gpu) (0.16.0)\n",
      "Requirement already satisfied: setuptools>=41.0.0 in /software/generic/JupyterHub/conda-env-20200804-1617/lib/python3.6/site-packages (from tensorboard~=2.4->tensorflow-gpu) (49.6.0.post20200814)\n",
      "Requirement already satisfied: cachetools<5.0,>=2.0.0 in /software/generic/JupyterHub/conda-env-20200804-1617/lib/python3.6/site-packages (from google-auth<2,>=1.6.3->tensorboard~=2.4->tensorflow-gpu) (4.2.0)\n",
      "Requirement already satisfied: rsa<5,>=3.1.4; python_version >= \"3.6\" in /software/generic/JupyterHub/conda-env-20200804-1617/lib/python3.6/site-packages (from google-auth<2,>=1.6.3->tensorboard~=2.4->tensorflow-gpu) (4.7)\n",
      "Requirement already satisfied: pyasn1-modules>=0.2.1 in /software/generic/JupyterHub/conda-env-20200804-1617/lib/python3.6/site-packages (from google-auth<2,>=1.6.3->tensorboard~=2.4->tensorflow-gpu) (0.2.8)\n",
      "Requirement already satisfied: requests-oauthlib>=0.7.0 in /software/generic/JupyterHub/conda-env-20200804-1617/lib/python3.6/site-packages (from google-auth-oauthlib<0.5,>=0.4.1->tensorboard~=2.4->tensorflow-gpu) (1.3.0)\n",
      "Requirement already satisfied: urllib3!=1.25.0,!=1.25.1,<1.26,>=1.21.1 in /software/generic/JupyterHub/conda-env-20200804-1617/lib/python3.6/site-packages (from requests<3,>=2.21.0->tensorboard~=2.4->tensorflow-gpu) (1.25.10)\n",
      "Requirement already satisfied: chardet<3.1.0,>=3.0.2 in /software/generic/JupyterHub/conda-env-20200804-1617/lib/python3.6/site-packages (from requests<3,>=2.21.0->tensorboard~=2.4->tensorflow-gpu) (3.0.4)\n",
      "Requirement already satisfied: idna<2.9,>=2.5 in /software/generic/JupyterHub/conda-env-20200804-1617/lib/python3.6/site-packages (from requests<3,>=2.21.0->tensorboard~=2.4->tensorflow-gpu) (2.8)\n",
      "Requirement already satisfied: certifi>=2017.4.17 in /software/generic/JupyterHub/conda-env-20200804-1617/lib/python3.6/site-packages (from requests<3,>=2.21.0->tensorboard~=2.4->tensorflow-gpu) (2020.6.20)\n",
      "Requirement already satisfied: pyasn1>=0.1.3 in /software/generic/JupyterHub/conda-env-20200804-1617/lib/python3.6/site-packages (from rsa<5,>=3.1.4; python_version >= \"3.6\"->google-auth<2,>=1.6.3->tensorboard~=2.4->tensorflow-gpu) (0.4.8)\n",
      "Requirement already satisfied: oauthlib>=3.0.0 in /software/generic/JupyterHub/conda-env-20200804-1617/lib/python3.6/site-packages (from requests-oauthlib>=0.7.0->google-auth-oauthlib<0.5,>=0.4.1->tensorboard~=2.4->tensorflow-gpu) (3.1.0)\n",
      "Installing collected packages: tensorflow-gpu\n",
      "\u001b[33m  WARNING: The scripts estimator_ckpt_converter, import_pb_to_tensorboard, saved_model_cli, tensorboard, tf_upgrade_v2, tflite_convert, toco and toco_from_protos are installed in '/home/davo557d/.local/bin' which is not on PATH.\n",
      "  Consider adding this directory to PATH or, if you prefer to suppress this warning, use --no-warn-script-location.\u001b[0m\n",
      "Successfully installed tensorflow-gpu-2.4.1\n",
      "Defaulting to user installation because normal site-packages is not writeable\n",
      "Looking in links: https://download.pytorch.org/whl/torch_stable.html\n",
      "Collecting torch==1.7.1+cu101\n",
      "  Downloading https://download.pytorch.org/whl/cu101/torch-1.7.1%2Bcu101-cp36-cp36m-linux_x86_64.whl (735.4 MB)\n",
      "\u001b[K     |████████████████████████████████| 735.4 MB 6.2 kB/s eta 0:00:011/s eta 0:01:03 |▎                               | 6.9 MB 11.7 MB/s eta 0:01:03     |▍                               | 9.6 MB 11.7 MB/s eta 0:01:03    | 11.2 MB 11.7 MB/s eta 0:01:03 MB 11.7 MB/s eta 0:01:02                   | 19.7 MB 11.7 MB/s eta 0:01:02 MB 11.7 MB/s eta 0:01:02 MB 11.7 MB/s eta 0:01:01B/s eta 0:01:01.9 MB 11.7 MB/s eta 0:01:01/s eta 0:01:014.8 MB 11.7 MB/s eta 0:01:01ta 0:01:00ta 0:01:0019190:19                       | 49.3 MB 36.9 MB/s eta 0:00:19 eta 0:00:190:19                       | 55.4 MB 36.9 MB/s eta 0:00:19                       | 59.5 MB 36.9 MB/s eta 0:00:19 eta 0:00:19                       | 64.7 MB 36.9 MB/s eta 0:00:19      | 66.5 MB 36.9 MB/s eta 0:00:1969.4 MB 36.9 MB/s eta 0:00:19                       | 71.4 MB 36.9 MB/s eta 0:00:18             | 73.1 MB 36.9 MB/s eta 0:00:18                   | 75.5 MB 36.9 MB/s eta 0:00:18 MB 36.9 MB/s eta 0:00:18s eta 0:00:188 MB 29.8 MB/s eta 0:00:22 MB 29.8 MB/s eta 0:00:22 MB 29.8 MB/s eta 0:00:22   |███▉                            | 87.1 MB 29.8 MB/s eta 0:00:22   |████                            | 91.4 MB 29.8 MB/s eta 0:00:22 MB 29.8 MB/s eta 0:00:22██▏                           | 95.4 MB 29.8 MB/s eta 0:00:22 |████▎                           | 97.2 MB 29.8 MB/s eta 0:00:22eta 0:00:22               | 100.9 MB 29.8 MB/s eta 0:00:22MB/s eta 0:00:227.5 MB 29.8 MB/s eta 0:00:22MB/s eta 0:00:21 eta 0:00:21MB/s eta 0:00:21�                           | 115.7 MB 36.0 MB/s eta 0:00:18                          | 117.6 MB 36.0 MB/s eta 0:00:18                      | 119.6 MB 36.0 MB/s eta 0:00:186.0 MB/s eta 0:00:186.0 MB/s eta 0:00:17   |█████▌                          | 126.7 MB 36.0 MB/s eta 0:00:17          | 128.6 MB 36.0 MB/s eta 0:00:17�▊                          | 131.1 MB 36.0 MB/s eta 0:00:17█▉                          | 133.1 MB 36.0 MB/s eta 0:00:17          | 135.6 MB 36.0 MB/s eta 0:00:17██                          | 137.8 MB 36.0 MB/s eta 0:00:170 MB/s eta 0:00:17                | 144.1 MB 36.0 MB/s eta 0:00:17████▋                         | 150.7 MB 36.0 MB/s eta 0:00:17| 152.9 MB 36.0 MB/s eta 0:00:17                | 154.8 MB 31.4 MB/s eta 0:00:19MB 31.4 MB/s eta 0:00:19                | 163.5 MB 31.4 MB/s eta 0:00:19                  | 165.3 MB 31.4 MB/s eta 0:00:19                  | 167.7 MB 31.4 MB/s eta 0:00:19███████▍                        | 170.0 MB 31.4 MB/s eta 0:00:18��███▌                        | 173.0 MB 31.4 MB/s eta 0:00:18��███▉                        | 179.3 MB 31.4 MB/s eta 0:00:181.4 MB/s eta 0:00:18                  | 183.8 MB 31.4 MB/s eta 0:00:18��████▏                       | 187.7 MB 31.4 MB/s eta 0:00:18MB 31.4 MB/s eta 0:00:18MB 38.6 MB/s eta 0:00:15 eta 0:00:14                | 198.2 MB 38.6 MB/s eta 0:00:14��████▊                       | 200.7 MB 38.6 MB/s eta 0:00:14                    | 205.2 MB 38.6 MB/s eta 0:00:14��█████                       | 207.5 MB 38.6 MB/s eta 0:00:14███████▏                      | 209.9 MB 38.6 MB/s eta 0:00:14�▍                      | 215.2 MB 38.6 MB/s eta 0:00:14��███▌                      | 219.4 MB 38.6 MB/s eta 0:00:14MB/s eta 0:00:14      | 223.7 MB 38.6 MB/s eta 0:00:146 MB/s eta 0:00:14| 228.5 MB 38.6 MB/s eta 0:00:14MB/s eta 0:00:14��██████▏                     | 233.5 MB 30.7 MB/s eta 0:00:17MB/s eta 0:00:17��██▍                     | 237.7 MB 30.7 MB/s eta 0:00:17                | 240.1 MB 30.7 MB/s eta 0:00:17MB/s eta 0:00:17████████▊                     | 246.6 MB 30.7 MB/s eta 0:00:16| 248.5 MB 30.7 MB/s eta 0:00:16MB/s eta 0:00:16MB/s eta 0:00:16     |███████████▏                    | 256.9 MB 30.7 MB/s eta 0:00:168.8 MB 30.7 MB/s eta 0:00:167 MB/s eta 0:00:16███████▌                    | 263.1 MB 30.7 MB/s eta 0:00:16�██████████▋                    | 265.6 MB 30.7 MB/s eta 0:00:16█▋                    | 267.5 MB 30.7 MB/s eta 0:00:16                  | 269.6 MB 30.7 MB/s eta 0:00:160 MB/s eta 0:00:12    | 274.4 MB 41.0 MB/s eta 0:00:12�███████████                    | 276.7 MB 41.0 MB/s eta 0:00:12��██▏                   | 278.5 MB 41.0 MB/s eta 0:00:120 MB/s eta 0:00:11        | 304.8 MB 41.0 MB/s eta 0:00:11��█▍                  | 306.4 MB 41.0 MB/s eta 0:00:11        | 309.1 MB 41.0 MB/s eta 0:00:112 MB/s eta 0:00:08��███████▋                  | 313.4 MB 53.2 MB/s eta 0:00:08        | 315.1 MB 53.2 MB/s eta 0:00:08��███████▉                  | 318.8 MB 53.2 MB/s eta 0:00:08        | 321.7 MB 53.2 MB/s eta 0:00:08 |██████████████                  | 323.5 MB 53.2 MB/s eta 0:00:08████▏                 | 325.6 MB 53.2 MB/s eta 0:00:08�█████████▎                 | 327.7 MB 53.2 MB/s eta 0:00:08 |██████████████▎                 | 329.3 MB 53.2 MB/s eta 0:00:08�█▍                 | 331.4 MB 53.2 MB/s eta 0:00:08MB/s eta 0:00:08                | 340.2 MB 53.2 MB/s eta 0:00:08█████                 | 342.7 MB 53.2 MB/s eta 0:00:08        | 345.2 MB 53.2 MB/s eta 0:00:083 MB 53.2 MB/s eta 0:00:08/s eta 0:00:08/s eta 0:00:109.0 MB/s eta 0:00:10��███▋                | 358.8 MB 39.0 MB/s eta 0:00:103.5 MB 39.0 MB/s eta 0:00:10/s eta 0:00:10�█████████                | 367.9 MB 39.0 MB/s eta 0:00:100.2 MB 39.0 MB/s eta 0:00:10 |████████████████▏               | 372.5 MB 39.0 MB/s eta 0:00:10��████████▎               | 374.8 MB 39.0 MB/s eta 0:00:10�███████████████▍               | 377.0 MB 39.0 MB/s eta 0:00:10��▌               | 379.7 MB 39.0 MB/s eta 0:00:10�               | 381.5 MB 39.0 MB/s eta 0:00:10 |████████████████▊               | 383.5 MB 39.0 MB/s eta 0:00:10��▉               | 386.3 MB 39.0 MB/s eta 0:00:09��▉               | 387.6 MB 39.0 MB/s eta 0:00:09    | 389.2 MB 34.5 MB/s eta 0:00:11��█               | 392.4 MB 34.5 MB/s eta 0:00:10MB 34.5 MB/s eta 0:00:10�██████████▍              | 400.7 MB 34.5 MB/s eta 0:00:10███████▋              | 404.1 MB 34.5 MB/s eta 0:00:10��█████████████▊              | 406.9 MB 34.5 MB/s eta 0:00:10��█████████████▊              | 408.3 MB 34.5 MB/s eta 0:00:10��█████████████▉              | 411.0 MB 34.5 MB/s eta 0:00:10��██████████████              | 413.8 MB 34.5 MB/s eta 0:00:10MB/s eta 0:00:10MB/s eta 0:00:10��██████████▍             | 421.9 MB 34.2 MB/s eta 0:00:10MB/s eta 0:00:10MB/s eta 0:00:09��██████████▊             | 431.0 MB 34.2 MB/s eta 0:00:09▉             | 433.5 MB 34.2 MB/s eta 0:00:09█████████████████             | 435.4 MB 34.2 MB/s eta 0:00:09MB/s eta 0:00:090:07�████████████▏            | 441.5 MB 44.2 MB/s eta 0:00:07 44.2 MB/s eta 0:00:07��█▍            | 446.3 MB 44.2 MB/s eta 0:00:07�██▌            | 448.3 MB 44.2 MB/s eta 0:00:07███████████████████▋            | 450.6 MB 44.2 MB/s eta 0:00:07            | 452.8 MB 44.2 MB/s eta 0:00:07███████████████████▉            | 456.3 MB 44.2 MB/s eta 0:00:07��██            | 459.1 MB 44.2 MB/s eta 0:00:07████████████████████            | 461.2 MB 44.2 MB/s eta 0:00:07 0:00:07    | 464.7 MB 44.2 MB/s eta 0:00:07██████████▎           | 466.6 MB 44.2 MB/s eta 0:00:07�███▍           | 468.2 MB 44.2 MB/s eta 0:00:07██████████████▌           | 470.4 MB 44.2 MB/s eta 0:00:06██████████████▋           | 473.2 MB 44.2 MB/s eta 0:00:06██████████████▊           | 475.2 MB 25.7 MB/s eta 0:00:11��████▉           | 477.5 MB 25.7 MB/s eta 0:00:11██████████████▉           | 479.8 MB 25.7 MB/s eta 0:00:10███████████████           | 482.3 MB 25.7 MB/s eta 0:00:10�████████           | 483.9 MB 25.7 MB/s eta 0:00:10 eta 0:00:10:00:107 MB/s eta 0:00:10:00:10494.5 MB 25.7 MB/s eta 0:00:10 eta 0:00:10:00:10MB 25.7 MB/s eta 0:00:10MB 25.7 MB/s eta 0:00:107 MB/s eta 0:00:097 MB/s eta 0:00:09██████████████████▎         | 511.0 MB 25.7 MB/s eta 0:00:09        | 515.0 MB 45.8 MB/s eta 0:00:05        | 518.9 MB 45.8 MB/s eta 0:00:05        | 520.9 MB 45.8 MB/s eta 0:00:05        | 523.3 MB 45.8 MB/s eta 0:00:05█████████████         | 527.3 MB 45.8 MB/s eta 0:00:05█████████████         | 529.4 MB 45.8 MB/s eta 0:00:05��█████████████████████▏        | 531.2 MB 45.8 MB/s eta 0:00:05�██████████▏        | 533.6 MB 45.8 MB/s eta 0:00:05███▎        | 535.9 MB 45.8 MB/s eta 0:00:05�██████████▍        | 538.2 MB 45.8 MB/s eta 0:00:05 0:00:05███▋        | 541.4 MB 45.8 MB/s eta 0:00:055 MB 45.8 MB/s eta 0:00:050:05███▉        | 547.4 MB 45.8 MB/s eta 0:00:05████        | 549.2 MB 49.3 MB/s eta 0:00:04�███████████        | 551.8 MB 49.3 MB/s eta 0:00:04████        | 553.9 MB 49.3 MB/s eta 0:00:04��██████████████▏       | 555.7 MB 49.3 MB/s eta 0:00:043 MB/s eta 0:00:04��████████████████▍       | 560.5 MB 49.3 MB/s eta 0:00:04�███████████▌       | 562.0 MB 49.3 MB/s eta 0:00:04��▋       | 566.6 MB 49.3 MB/s eta 0:00:048.1 MB 49.3 MB/s eta 0:00:04��▉       | 570.2 MB 49.3 MB/s eta 0:00:042.3 MB 49.3 MB/s eta 0:00:04��█████████████████▏      | 577.1 MB 49.3 MB/s eta 0:00:04| 579.5 MB 49.3 MB/s eta 0:00:04��███████▎      | 581.6 MB 49.3 MB/s eta 0:00:04�██████████████████▍      | 583.8 MB 47.0 MB/s eta 0:00:04��███████▌      | 585.7 MB 47.0 MB/s eta 0:00:04��███████▋      | 587.7 MB 47.0 MB/s eta 0:00:04��███████▊      | 589.8 MB 47.0 MB/s eta 0:00:04�██████████████████▊      | 592.1 MB 47.0 MB/s eta 0:00:0403��████      | 596.3 MB 47.0 MB/s eta 0:00:03| 598.9 MB 47.0 MB/s eta 0:00:03██▏     | 600.6 MB 47.0 MB/s eta 0:00:03602.7 MB 47.0 MB/s eta 0:00:03████████████████████████▎     | 604.4 MB 47.0 MB/s eta 0:00:03████████▍     | 606.1 MB 47.0 MB/s eta 0:00:03��██████████████████▌     | 608.5 MB 47.0 MB/s eta 0:00:03MB/s eta 0:00:03�█████████████▋     | 612.5 MB 47.0 MB/s eta 0:00:03��██████████████████▊     | 614.4 MB 47.0 MB/s eta 0:00:03████████████████████████▉     | 616.2 MB 47.0 MB/s eta 0:00:03�██████████████     | 618.3 MB 47.0 MB/s eta 0:00:03��███     | 621.0 MB 42.5 MB/s eta 0:00:03    | 623.0 MB 42.5 MB/s eta 0:00:03625.1 MB 42.5 MB/s eta 0:00:03��███▎    | 626.6 MB 42.5 MB/s eta 0:00:03��█████▍    | 628.5 MB 42.5 MB/s eta 0:00:03�████████████▌    | 631.0 MB 42.5 MB/s eta 0:00:03��█████████████▌    | 633.1 MB 42.5 MB/s eta 0:00:03��█████████████▋    | 635.4 MB 42.5 MB/s eta 0:00:03637.1 MB 42.5 MB/s eta 0:00:03639.4 MB 42.5 MB/s eta 0:00:03�███    | 642.3 MB 42.5 MB/s eta 0:00:03��██████████████    | 644.5 MB 42.5 MB/s eta 0:00:03��████████████████▏   | 646.2 MB 42.5 MB/s eta 0:00:03��████████▏   | 648.5 MB 42.5 MB/s eta 0:00:03��████████████████████████▎   | 650.3 MB 42.5 MB/s eta 0:00:02 |████████████████████████████▍   | 651.8 MB 42.5 MB/s eta 0:00:02��████████████████████████▌   | 653.9 MB 42.5 MB/s eta 0:00:02| 656.1 MB 42.5 MB/s eta 0:00:02��███████████████████▋   | 658.1 MB 7.4 MB/s eta 0:00:11��███████████████████▊   | 659.9 MB 7.4 MB/s eta 0:00:11��███████████████████▉   | 662.0 MB 7.4 MB/s eta 0:00:10.9 MB 7.4 MB/s eta 0:00:10��████████████████████   | 665.5 MB 7.4 MB/s eta 0:00:10��██████████████▏  | 669.0 MB 7.4 MB/s eta 0:00:09    |█████████████████████████████▏  | 671.1 MB 7.4 MB/s eta 0:00:09    |█████████████████████████████▍  | 674.5 MB 7.4 MB/s eta 0:00:09    |█████████████████████████████▍  | 676.2 MB 7.4 MB/s eta 0:00:09    |█████████████████████████████▌  | 678.1 MB 7.4 MB/s eta 0:00:08�███████████████████████████▋  | 679.8 MB 7.4 MB/s eta 0:00:08    |█████████████████████████████▋  | 681.3 MB 7.4 MB/s eta 0:00:08    |█████████████████████████████▉  | 685.2 MB 7.4 MB/s eta 0:00:07    |██████████████████████████████  | 687.2 MB 7.4 MB/s eta 0:00:07    |██████████████████████████████  | 689.6 MB 7.4 MB/s eta 0:00:07ta 0:00:01MB 55.6 MB/s eta 0:00:01��██████████████▎ | 695.2 MB 55.6 MB/s eta 0:00:01�█▎ | 697.0 MB 55.6 MB/s eta 0:00:01��██████████████▍ | 698.9 MB 55.6 MB/s eta 0:00:01�█▌ | 700.6 MB 55.6 MB/s eta 0:00:01�█▋ | 702.6 MB 55.6 MB/s eta 0:00:01MB 55.6 MB/s eta 0:00:01�█▊ | 706.1 MB 55.6 MB/s eta 0:00:01�█▉ | 707.7 MB 55.6 MB/s eta 0:00:01�█▉ | 709.2 MB 55.6 MB/s eta 0:00:01�██ | 711.2 MB 55.6 MB/s eta 0:00:01�██ | 713.2 MB 55.6 MB/s eta 0:00:01�██ | 714.9 MB 55.6 MB/s eta 0:00:01��███████████▍| 720.1 MB 55.6 MB/s eta 0:00:01��███████████▍| 721.8 MB 55.6 MB/s eta 0:00:01███████▌| 723.7 MB 7.9 MB/s eta 0:00:02�█████████████████████████▋| 725.6 MB 7.9 MB/s eta 0:00:02███████▊| 727.9 MB 7.9 MB/s eta 0:00:01███████▊| 729.7 MB 7.9 MB/s eta 0:00:01�███████▉| 731.6 MB 7.9 MB/s eta 0:00:01�████████| 733.5 MB 7.9 MB/s eta 0:00:01\n",
      "\u001b[?25hCollecting torchvision==0.8.2+cu101\n",
      "  Downloading https://download.pytorch.org/whl/cu101/torchvision-0.8.2%2Bcu101-cp36-cp36m-linux_x86_64.whl (12.8 MB)\n",
      "\u001b[K     |████████████████████████████████| 12.8 MB 25.8 MB/s eta 0:00:01| 266 kB 25.8 MB/s eta 0:00:010:00:01               | 5.0 MB 25.8 MB/s eta 0:00:01��████▏             | 7.3 MB 25.8 MB/s eta 0:00:01��██████▍       | 9.7 MB 25.8 MB/s eta 0:00:01s eta 0:00:01\n",
      "\u001b[?25hCollecting torchaudio===0.7.2\n",
      "  Downloading torchaudio-0.7.2-cp36-cp36m-manylinux1_x86_64.whl (7.6 MB)\n",
      "\u001b[K     |████████████████████████████████| 7.6 MB 2.6 MB/s eta 0:00:01\n",
      "\u001b[?25hRequirement already satisfied: dataclasses; python_version < \"3.7\" in ./.local/lib/python3.6/site-packages (from torch==1.7.1+cu101) (0.8)\n",
      "Requirement already satisfied: numpy in /software/generic/JupyterHub/conda-env-20200804-1617/lib/python3.6/site-packages (from torch==1.7.1+cu101) (1.19.5)\n",
      "Requirement already satisfied: typing-extensions in /software/generic/JupyterHub/conda-env-20200804-1617/lib/python3.6/site-packages (from torch==1.7.1+cu101) (3.7.4.2)\n",
      "Requirement already satisfied: pillow>=4.1.1 in /software/generic/JupyterHub/conda-env-20200804-1617/lib/python3.6/site-packages (from torchvision==0.8.2+cu101) (7.1.2)\n",
      "Installing collected packages: torch, torchvision, torchaudio\n",
      "\u001b[33m  WARNING: The scripts convert-caffe2-to-onnx and convert-onnx-to-caffe2 are installed in '/home/davo557d/.local/bin' which is not on PATH.\n",
      "  Consider adding this directory to PATH or, if you prefer to suppress this warning, use --no-warn-script-location.\u001b[0m\n",
      "Successfully installed torch-1.7.1+cu101 torchaudio-0.7.2 torchvision-0.8.2+cu101\n",
      "Defaulting to user installation because normal site-packages is not writeable\n",
      "Collecting datasets\n",
      "  Using cached datasets-1.5.0-py3-none-any.whl (192 kB)\n",
      "Collecting xxhash\n",
      "  Downloading xxhash-2.0.0-cp36-cp36m-manylinux2010_x86_64.whl (242 kB)\n",
      "\u001b[K     |████████████████████████████████| 242 kB 4.3 MB/s eta 0:00:01\n",
      "\u001b[?25hCollecting multiprocess\n",
      "  Using cached multiprocess-0.70.11.1-py36-none-any.whl (101 kB)\n",
      "Requirement already satisfied: tqdm<4.50.0,>=4.27 in /software/generic/JupyterHub/conda-env-20200804-1617/lib/python3.6/site-packages (from datasets) (4.36.1)\n",
      "Collecting huggingface-hub<0.1.0\n",
      "  Using cached huggingface_hub-0.0.7-py3-none-any.whl (33 kB)\n",
      "Requirement already satisfied: requests>=2.19.0 in /software/generic/JupyterHub/conda-env-20200804-1617/lib/python3.6/site-packages (from datasets) (2.22.0)\n",
      "Requirement already satisfied: dataclasses; python_version < \"3.7\" in ./.local/lib/python3.6/site-packages (from datasets) (0.8)\n",
      "Requirement already satisfied: importlib-metadata; python_version < \"3.8\" in /software/generic/JupyterHub/conda-env-20200804-1617/lib/python3.6/site-packages (from datasets) (1.7.0)\n",
      "Requirement already satisfied: fsspec in /software/generic/JupyterHub/conda-env-20200804-1617/lib/python3.6/site-packages (from datasets) (0.8.0)\n",
      "Requirement already satisfied: numpy>=1.17 in /software/generic/JupyterHub/conda-env-20200804-1617/lib/python3.6/site-packages (from datasets) (1.19.5)\n",
      "Collecting pyarrow>=0.17.1\n",
      "  Downloading pyarrow-3.0.0-cp36-cp36m-manylinux2014_x86_64.whl (20.7 MB)\n",
      "\u001b[K     |████████████████████████████████| 20.7 MB 172 kB/s eta 0:00:01    | 11.1 MB 4.9 MB/s eta 0:00:02 MB 4.9 MB/s eta 0:00:02█████████████▉        | 15.4 MB 4.9 MB/s eta 0:00:0217.5 MB 4.9 MB/s eta 0:00:01ta 0:00:01\n",
      "\u001b[?25hRequirement already satisfied: pandas in /software/generic/JupyterHub/conda-env-20200804-1617/lib/python3.6/site-packages (from datasets) (1.1.0)\n",
      "Requirement already satisfied: dill in /software/generic/JupyterHub/conda-env-20200804-1617/lib/python3.6/site-packages (from datasets) (0.3.2)\n",
      "Requirement already satisfied: filelock in ./.local/lib/python3.6/site-packages (from huggingface-hub<0.1.0->datasets) (3.0.12)\n",
      "Requirement already satisfied: certifi>=2017.4.17 in /software/generic/JupyterHub/conda-env-20200804-1617/lib/python3.6/site-packages (from requests>=2.19.0->datasets) (2020.6.20)\n",
      "Requirement already satisfied: urllib3!=1.25.0,!=1.25.1,<1.26,>=1.21.1 in /software/generic/JupyterHub/conda-env-20200804-1617/lib/python3.6/site-packages (from requests>=2.19.0->datasets) (1.25.10)\n",
      "Requirement already satisfied: idna<2.9,>=2.5 in /software/generic/JupyterHub/conda-env-20200804-1617/lib/python3.6/site-packages (from requests>=2.19.0->datasets) (2.8)\n",
      "Requirement already satisfied: chardet<3.1.0,>=3.0.2 in /software/generic/JupyterHub/conda-env-20200804-1617/lib/python3.6/site-packages (from requests>=2.19.0->datasets) (3.0.4)\n",
      "Requirement already satisfied: zipp>=0.5 in /software/generic/JupyterHub/conda-env-20200804-1617/lib/python3.6/site-packages (from importlib-metadata; python_version < \"3.8\"->datasets) (3.1.0)\n",
      "Requirement already satisfied: python-dateutil>=2.7.3 in /software/generic/JupyterHub/conda-env-20200804-1617/lib/python3.6/site-packages (from pandas->datasets) (2.8.1)\n",
      "Requirement already satisfied: pytz>=2017.2 in /software/generic/JupyterHub/conda-env-20200804-1617/lib/python3.6/site-packages (from pandas->datasets) (2020.1)\n",
      "Requirement already satisfied: six>=1.5 in ./.local/lib/python3.6/site-packages (from python-dateutil>=2.7.3->pandas->datasets) (1.15.0)\n",
      "Installing collected packages: xxhash, multiprocess, huggingface-hub, pyarrow, datasets\n",
      "\u001b[33m  WARNING: The script huggingface-cli is installed in '/home/davo557d/.local/bin' which is not on PATH.\n",
      "  Consider adding this directory to PATH or, if you prefer to suppress this warning, use --no-warn-script-location.\u001b[0m\n",
      "\u001b[33m  WARNING: The script plasma_store is installed in '/home/davo557d/.local/bin' which is not on PATH.\n",
      "  Consider adding this directory to PATH or, if you prefer to suppress this warning, use --no-warn-script-location.\u001b[0m\n",
      "\u001b[33m  WARNING: The script datasets-cli is installed in '/home/davo557d/.local/bin' which is not on PATH.\n",
      "  Consider adding this directory to PATH or, if you prefer to suppress this warning, use --no-warn-script-location.\u001b[0m\n",
      "\u001b[31mERROR: After October 2020 you may experience errors when installing or updating packages. This is because pip will change the way that it resolves dependency conflicts.\n",
      "\n",
      "We recommend you use --use-feature=2020-resolver to test your packages with the new resolver before it becomes the default.\n",
      "\n",
      "multiprocess 0.70.11.1 requires dill>=0.3.3, but you'll have dill 0.3.2 which is incompatible.\u001b[0m\n",
      "Successfully installed datasets-1.5.0 huggingface-hub-0.0.7 multiprocess-0.70.11.1 pyarrow-3.0.0 xxhash-2.0.0\n",
      "Defaulting to user installation because normal site-packages is not writeable\n",
      "Requirement already satisfied: tokenizers in ./.local/lib/python3.6/site-packages (0.10.1)\n",
      "Defaulting to user installation because normal site-packages is not writeable\n",
      "Requirement already satisfied: transformers in ./.local/lib/python3.6/site-packages (4.4.0.dev0)\n",
      "Requirement already satisfied: dataclasses; python_version < \"3.7\" in ./.local/lib/python3.6/site-packages (from transformers) (0.8)\n",
      "Requirement already satisfied: filelock in ./.local/lib/python3.6/site-packages (from transformers) (3.0.12)\n",
      "Requirement already satisfied: numpy>=1.17 in /software/generic/JupyterHub/conda-env-20200804-1617/lib/python3.6/site-packages (from transformers) (1.19.5)\n",
      "Requirement already satisfied: tqdm>=4.27 in /software/generic/JupyterHub/conda-env-20200804-1617/lib/python3.6/site-packages (from transformers) (4.36.1)\n",
      "Requirement already satisfied: requests in /software/generic/JupyterHub/conda-env-20200804-1617/lib/python3.6/site-packages (from transformers) (2.22.0)\n",
      "Requirement already satisfied: tokenizers<0.11,>=0.10.1 in ./.local/lib/python3.6/site-packages (from transformers) (0.10.1)\n",
      "Requirement already satisfied: importlib-metadata; python_version < \"3.8\" in /software/generic/JupyterHub/conda-env-20200804-1617/lib/python3.6/site-packages (from transformers) (1.7.0)\n",
      "Requirement already satisfied: regex!=2019.12.17 in ./.local/lib/python3.6/site-packages (from transformers) (2020.11.13)\n",
      "Requirement already satisfied: packaging in ./.local/lib/python3.6/site-packages (from transformers) (20.9)\n",
      "Requirement already satisfied: sacremoses in ./.local/lib/python3.6/site-packages (from transformers) (0.0.43)\n",
      "Requirement already satisfied: chardet<3.1.0,>=3.0.2 in /software/generic/JupyterHub/conda-env-20200804-1617/lib/python3.6/site-packages (from requests->transformers) (3.0.4)\n",
      "Requirement already satisfied: urllib3!=1.25.0,!=1.25.1,<1.26,>=1.21.1 in /software/generic/JupyterHub/conda-env-20200804-1617/lib/python3.6/site-packages (from requests->transformers) (1.25.10)\n",
      "Requirement already satisfied: idna<2.9,>=2.5 in /software/generic/JupyterHub/conda-env-20200804-1617/lib/python3.6/site-packages (from requests->transformers) (2.8)\n",
      "Requirement already satisfied: certifi>=2017.4.17 in /software/generic/JupyterHub/conda-env-20200804-1617/lib/python3.6/site-packages (from requests->transformers) (2020.6.20)\n",
      "Requirement already satisfied: zipp>=0.5 in /software/generic/JupyterHub/conda-env-20200804-1617/lib/python3.6/site-packages (from importlib-metadata; python_version < \"3.8\"->transformers) (3.1.0)\n",
      "Requirement already satisfied: pyparsing>=2.0.2 in /software/generic/JupyterHub/conda-env-20200804-1617/lib/python3.6/site-packages (from packaging->transformers) (2.4.7)\n",
      "Requirement already satisfied: click in /software/generic/JupyterHub/conda-env-20200804-1617/lib/python3.6/site-packages (from sacremoses->transformers) (7.0)\n",
      "Requirement already satisfied: six in ./.local/lib/python3.6/site-packages (from sacremoses->transformers) (1.15.0)\n",
      "Requirement already satisfied: joblib in ./.local/lib/python3.6/site-packages (from sacremoses->transformers) (1.0.1)\n",
      "Defaulting to user installation because normal site-packages is not writeable\n",
      "Requirement already satisfied: git-python==1.0.3 in ./.local/lib/python3.6/site-packages (1.0.3)\n",
      "Requirement already satisfied: gitpython in ./.local/lib/python3.6/site-packages (from git-python==1.0.3) (3.1.14)\n",
      "Requirement already satisfied: gitdb<5,>=4.0.1 in ./.local/lib/python3.6/site-packages (from gitpython->git-python==1.0.3) (4.0.5)\n",
      "Requirement already satisfied: smmap<4,>=3.0.1 in ./.local/lib/python3.6/site-packages (from gitdb<5,>=4.0.1->gitpython->git-python==1.0.3) (3.0.5)\n",
      "Defaulting to user installation because normal site-packages is not writeable\n",
      "Requirement already satisfied: rouge_score in ./.local/lib/python3.6/site-packages (0.0.4)\n",
      "Requirement already satisfied: nltk in ./.local/lib/python3.6/site-packages (from rouge_score) (3.5)\n",
      "Requirement already satisfied: numpy in /software/generic/JupyterHub/conda-env-20200804-1617/lib/python3.6/site-packages (from rouge_score) (1.19.5)\n",
      "Requirement already satisfied: absl-py in /software/generic/JupyterHub/conda-env-20200804-1617/lib/python3.6/site-packages (from rouge_score) (0.11.0)\n",
      "Requirement already satisfied: six>=1.14.0 in ./.local/lib/python3.6/site-packages (from rouge_score) (1.15.0)\n",
      "Requirement already satisfied: joblib in ./.local/lib/python3.6/site-packages (from nltk->rouge_score) (1.0.1)\n",
      "Requirement already satisfied: regex in ./.local/lib/python3.6/site-packages (from nltk->rouge_score) (2020.11.13)\n",
      "Requirement already satisfied: tqdm in /software/generic/JupyterHub/conda-env-20200804-1617/lib/python3.6/site-packages (from nltk->rouge_score) (4.36.1)\n",
      "Requirement already satisfied: click in /software/generic/JupyterHub/conda-env-20200804-1617/lib/python3.6/site-packages (from nltk->rouge_score) (7.0)\n",
      "Defaulting to user installation because normal site-packages is not writeable\n",
      "Requirement already satisfied: sacrebleu in ./.local/lib/python3.6/site-packages (1.5.1)\n",
      "Requirement already satisfied: portalocker==2.0.0 in ./.local/lib/python3.6/site-packages (from sacrebleu) (2.0.0)\n",
      "Defaulting to user installation because normal site-packages is not writeable\n",
      "Requirement already satisfied: wget in ./.local/lib/python3.6/site-packages (3.2)\n"
     ]
    }
   ],
   "source": [
    "# Imports\n",
    "!pip install --upgrade tensorflow\n",
    "!pip install tensorflow-gpu\n",
    "!pip install torch==1.7.1+cu101 torchvision==0.8.2+cu101 torchaudio===0.7.2 -f https://download.pytorch.org/whl/torch_stable.html\n",
    "!pip install datasets\n",
    "!pip install tokenizers==0.7.0\n",
    "!pip install transformers==2.8.0\n",
    "!pip install git-python==1.0.3\n",
    "!pip install rouge_score\n",
    "!pip install sacrebleu\n",
    "!pip install wget\n",
    "!pip install openpyxl\n",
    "!pip install xlrd"
   ]
  },
  {
   "cell_type": "code",
   "execution_count": 40,
   "metadata": {},
   "outputs": [],
   "source": [
    "# Imports\n",
    "import datasets\n",
    "import pandas as pd\n",
    "import csv\n",
    "\n",
    "from IPython.display import display, HTML\n",
    "from datasets import ClassLabel\n",
    "from transformers import EncoderDecoderModel, BertTokenizer, BertTokenizerFast, DistilBertTokenizer, DistilBertTokenizerFast"
   ]
  },
  {
   "cell_type": "code",
   "execution_count": 21,
   "metadata": {},
   "outputs": [
    {
     "name": "stdout",
     "output_type": "stream",
     "text": [
      "Device: cuda\n"
     ]
    }
   ],
   "source": [
    "# Test CUDA\n",
    "import torch\n",
    "\n",
    "device = torch.device(\"cuda\" if torch.cuda.is_available() else \"cpu\")\n",
    "torch.cuda.empty_cache()\n",
    "print(\"Device:\", device)"
   ]
  },
  {
   "cell_type": "code",
   "execution_count": 22,
   "metadata": {},
   "outputs": [],
   "source": [
    "# Load swiss data\n",
    "path_corpus = \"data_train.csv\"\n",
    "\n",
    "data_txt = []\n",
    "data_ref = []\n",
    "\n",
    "with open(\"data_train.csv\", \"r\", encoding=\"utf-8\") as f:\n",
    "    reader = csv.reader(f, delimiter=\",\", quoting=csv.QUOTE_ALL)\n",
    "    next(reader, None)\n",
    "\n",
    "    for row in reader:\n",
    "        data_txt.append(row[0])\n",
    "        data_ref.append(row[1])\n",
    "\n",
    "tuples = list(zip(data_txt, data_ref))\n",
    "dataframe = pd.DataFrame(tuples, columns=[\"article\", \"highlights\"])"
   ]
  },
  {
   "cell_type": "code",
   "execution_count": 25,
   "metadata": {},
   "outputs": [],
   "source": [
    "# Load german data\n",
    "tuples = pd.read_excel(\"data_train_test.xlsx\", engine=\"openpyxl\")\n",
    "del tuples[\"Unnamed: 0\"]\n",
    "dataframe = pd.concat([dataframe, tuples])\n",
    "dataframe = dataframe.dropna()"
   ]
  },
  {
   "cell_type": "code",
   "execution_count": 26,
   "metadata": {},
   "outputs": [
    {
     "name": "stdout",
     "output_type": "stream",
     "text": [
      "                                                 article  \\\n",
      "0      Minghella war der Sohn italienisch-schottische...   \n",
      "1      Ende der 1940er Jahre wurde eine erste Auteur-...   \n",
      "2      Al Pacino, geboren in Manhattan, ist der Sohn ...   \n",
      "3      Der Name der Alkalimetalle leitet sich von dem...   \n",
      "4      Die Arbeit ist bereits seit dem Altertum Gegen...   \n",
      "...                                                  ...   \n",
      "12533  Das in der Kritik stehende Kommando Spezialkrä...   \n",
      "12534  Franka Lu ist eine chinesische Journalistin un...   \n",
      "12535  Nach drei Angriffen mit explosiven Postsendung...   \n",
      "12536  Russische Behörden haben nach eigenen Angaben ...   \n",
      "12537  DIE ZEIT: Herr Heisterhagen, Ralf Stegner kand...   \n",
      "\n",
      "                                              highlights  \n",
      "0      Anthony Minghella, CBE war ein britischer Film...  \n",
      "1      Die Auteur-Theorie ist eine Filmtheorie und di...  \n",
      "2      Alfredo James \"Al\" Pacino ist ein US-amerikani...  \n",
      "3      Als Alkalimetalle werden die chemischen Elemen...  \n",
      "4      Das deutsche Arbeitsrecht ist ein Rechtsgebiet...  \n",
      "...                                                  ...  \n",
      "12533  KSK-Soldaten konnten laut Medienrecherchen unt...  \n",
      "12534  China hat die Pandemie erfolgreich unterdrückt...  \n",
      "12535  Nach Briefbomben-Anschlägen auf unter anderem ...  \n",
      "12536  In Russland haben sich erstmals Menschen mit d...  \n",
      "12537  Die Sozialdemokraten hängen im Umfragetief. Wa...  \n",
      "\n",
      "[112491 rows x 2 columns]\n"
     ]
    }
   ],
   "source": [
    "# Concat swiss and german data\n",
    "german_data = datasets.arrow_dataset.Dataset.from_pandas(dataframe[[\"article\", \"highlights\"]])\n",
    "german_data = german_data.shuffle()\n",
    "print(dataframe)"
   ]
  },
  {
   "cell_type": "code",
   "execution_count": 27,
   "metadata": {},
   "outputs": [],
   "source": [
    "# Split data\n",
    "train_data = german_data.select(range(0, 85000))\n",
    "val_data = german_data.select(range(85000, 95000))\n",
    "test_data = german_data.select(range(95000, 100000))"
   ]
  },
  {
   "cell_type": "code",
   "execution_count": 28,
   "metadata": {},
   "outputs": [
    {
     "data": {
      "text/plain": [
       "'\\ntrain_data = datasets.load_dataset(\"cnn_dailymail\", \"3.0.0\", split=\"train\")\\nval_data = datasets.load_dataset(\"cnn_dailymail\", \"3.0.0\", split=\"validation[:10%]\")\\ntest_data = datasets.load_dataset(\"cnn_dailymail\", \"3.0.0\", split=\"test[:5%]\")\\n'"
      ]
     },
     "execution_count": 28,
     "metadata": {},
     "output_type": "execute_result"
    }
   ],
   "source": [
    "# Load english data\n",
    "'''\n",
    "train_data = datasets.load_dataset(\"cnn_dailymail\", \"3.0.0\", split=\"train\")\n",
    "val_data = datasets.load_dataset(\"cnn_dailymail\", \"3.0.0\", split=\"validation[:10%]\")\n",
    "test_data = datasets.load_dataset(\"cnn_dailymail\", \"3.0.0\", split=\"test[:5%]\")\n",
    "'''"
   ]
  },
  {
   "cell_type": "code",
   "execution_count": 29,
   "metadata": {},
   "outputs": [
    {
     "name": "stdout",
     "output_type": "stream",
     "text": [
      "3915.0795294117647\n",
      "234.61944705882354\n"
     ]
    }
   ],
   "source": [
    "# Explore corpus\n",
    "df = pd.DataFrame(train_data)\n",
    "\n",
    "text_list = []\n",
    "summary_list = []\n",
    "\n",
    "for index, row in df.iterrows():\n",
    "    text = row[\"article\"]\n",
    "    summary = row[\"highlights\"]\n",
    "    text_list.append(len(text))\n",
    "    summary_list.append(len(summary))\n",
    "    \n",
    "print(sum(text_list) / len(text_list))\n",
    "print(sum(summary_list) / len(summary_list))"
   ]
  },
  {
   "cell_type": "code",
   "execution_count": 41,
   "metadata": {},
   "outputs": [
    {
     "data": {
      "text/html": [
       "<table border=\"1\" class=\"dataframe\">\n",
       "  <thead>\n",
       "    <tr style=\"text-align: right;\">\n",
       "      <th></th>\n",
       "      <th>article</th>\n",
       "      <th>highlights</th>\n",
       "      <th>__index_level_0__</th>\n",
       "    </tr>\n",
       "  </thead>\n",
       "  <tbody>\n",
       "    <tr>\n",
       "      <th>0</th>\n",
       "      <td>Nach dem Besuch der Lateinschule und dem bestandenen Landexamen durchlief Paul Schanz den Bildungsweg der Priesteramtskandidaten Württembergs. So besuchte er von 1857 bis 1861 das Königliche Gymnasium und das Niedere Konvikt in Rottweil und wurde nach seiner Maturitätsprüfung in das Höhere Konvikt, das Wilhelmsstift in Tübingen, aufgenommen und war dort Mitglied in der Theologengesellschaft Herzynia. 1861–65 studierte er an der württembergischen Landesuniversität Tübingen Philologie, Philosophie und Katholische Theologie. Dieser Ausbildung schloss sich das einjährige Priesterseminar in Rottenburg am Neckar an. Nach der Priesterweihe im Jahr 1866 wurde Schanz Vikar in Schramberg. Während dieser Zeit wurde er von der Philosophischen Fakultät der Universität Tübingen mit einer religionsgeschichtlichen Arbeit promoviert. 1867 wurde er Repetent am Wilhelmsstift. Neben der Dogmatik war er hier für die Repetition der naturwissenschaftlichen Fächer zuständig. 1869 unterzog er sich dem realistischen Professoratsexamen. Ein Jahr später trat er eine wissenschaftliche Reise an, die ihn nach Paris und Berlin führte. In Berlin studierte Schanz an der Friedrich-Wilhelms-Universität. Kurz nach seiner Rückkehr wurde er zum Gymnasialprofessor für Mathematik und Naturwissenschaften am Rottweiler Gymnasium ernannt. Obwohl Schanz als Naturwissenschaftler galt, wurde er 1876 zum Nachfolger von Moritz von Aberle und damit zum Universitätsprofessor für Neues Testament in Tübingen ernannt. Dies lag nicht nur daran, dass er seit etlichen Jahren der beste Absolvent der Fakultät war, sondern auch an dem Vertrauen der Fakultät \"in die Eignung der eigenen Absolventen und die Bekanntheit mit ihren nicht nur fachlichen Fähigkeiten, sondern ebenso mit ihren kirchenpolitischen Anschauungen\". Mit der Ernennung zum Professor erhielt Schanz von der Fakultät den Dr. theol. verliehen. Im Abstand von jeweils zwei Jahren entstanden nun seine vier Evangelienkommentare, die nach dem Urteil des Neutestamentlers Josef Schmid \"die bedeutendste exegetische Leistung in der katholischen Theologie des neunzehnten Jahrhunderts\" seien. 1883 wechselte Schanz innerhalb der Fakultät die Lehraufträge. Als Nachfolger von Johannes von Kuhn erhielt er die Professur für Dogmatik, der auf seinem eigenen Wunsch hin der Lehrauftrag für Apologetik hinzugefügt wurde. Das bedeutendste Werk aus dieser Zeit ist die dreibändige \"Apologie des Christentums\", durch die Schanz auch international bekannt wurde. Sein erstaunliches Wissen in den Bereichen der Philologie, der Geschichtswissenschaften, Naturwissenschaften, Exegese und Dogmatik machte es verständlich, dass er als Apologet die drängenden wissenschaftlichen Fragen seiner Zeit behandelte, vor allem die Vereinbarkeit von Evolutionstheorie und Schöpfungslehre und von Religionsgeschichte und Glaubenslehre. In den letzten Lebensjahren bekannte sich Schanz zu einem wissenschaftlichen Historismus, der in der Beschäftigung mit der Geschichte der Wissenschaft die Wissenschaft selbst entdeckte. Obwohl Schanz als eher konservativ galt, wandte er sich dennoch affirmativ den Arbeiten von evangelischen Theologen und katholischen Reformern seiner Zeit zu. So rezipierte er neben Joseph Müller, Albert Ehrhard und Alfred Loisy auch den katholischen Religionsphilosophen Maurice Blondel, dessen Werk er erstmals deutschen Lesern bekannt machte. Im Jahr 1900 wurde Paul Schanz mit dem Ehrenkreuz des Ordens der Württembergischen Krone ausgezeichnet, welches mit dem persönlichen Adelstitel verbunden war.</td>\n",
       "      <td>Paul von Schanz war ein katholischer Theologe, Professor für Mathematik, Naturwissenschaften, Neutestamentliche Exegese, Dogmatik und Apologetik.</td>\n",
       "      <td>88259</td>\n",
       "    </tr>\n",
       "  </tbody>\n",
       "</table>"
      ],
      "text/plain": [
       "<IPython.core.display.HTML object>"
      ]
     },
     "metadata": {},
     "output_type": "display_data"
    }
   ],
   "source": [
    "# Explore corpus\n",
    "train_data.info.description\n",
    "df = pd.DataFrame(train_data[:1])\n",
    "\n",
    "# del df[\"id\"]\n",
    "\n",
    "for column, typ in train_data.features.items():\n",
    "    if isinstance(typ, ClassLabel):\n",
    "        df[column] = df[column].transform(lambda i: typ.names[i])\n",
    "\n",
    "display(HTML(df.to_html()))"
   ]
  },
  {
   "cell_type": "code",
   "execution_count": 31,
   "metadata": {},
   "outputs": [
    {
     "data": {
      "application/vnd.jupyter.widget-view+json": {
       "model_id": "76af0e45286248b9ba1671ae32be6e13",
       "version_major": 2,
       "version_minor": 0
      },
      "text/plain": [
       "HBox(children=(IntProgress(value=0, description='Downloading', max=995526, style=ProgressStyle(description_wid…"
      ]
     },
     "metadata": {},
     "output_type": "display_data"
    },
    {
     "name": "stdout",
     "output_type": "stream",
     "text": [
      "\n"
     ]
    },
    {
     "data": {
      "application/vnd.jupyter.widget-view+json": {
       "model_id": "7ab942a7bcae4774890c682ceb9072a9",
       "version_major": 2,
       "version_minor": 0
      },
      "text/plain": [
       "HBox(children=(IntProgress(value=0, description='Downloading', max=1961828, style=ProgressStyle(description_wi…"
      ]
     },
     "metadata": {},
     "output_type": "display_data"
    },
    {
     "name": "stdout",
     "output_type": "stream",
     "text": [
      "\n"
     ]
    },
    {
     "data": {
      "application/vnd.jupyter.widget-view+json": {
       "model_id": "7ebcd158e1ac4a6e918e86742d6516da",
       "version_major": 2,
       "version_minor": 0
      },
      "text/plain": [
       "HBox(children=(IntProgress(value=0, description='Downloading', max=29, style=ProgressStyle(description_width='…"
      ]
     },
     "metadata": {},
     "output_type": "display_data"
    },
    {
     "name": "stdout",
     "output_type": "stream",
     "text": [
      "\n"
     ]
    }
   ],
   "source": [
    "# Load tokenizer\n",
    "tokenizer = BertTokenizerFast.from_pretrained(\"bert-base-multilingual-cased\")"
   ]
  },
  {
   "cell_type": "code",
   "execution_count": 32,
   "metadata": {},
   "outputs": [],
   "source": [
    "# Prepare data\n",
    "encoder_max_length = 512\n",
    "decoder_max_length = 128\n",
    "batch_size = 4 # 16\n",
    "\n",
    "def process_data_to_model_inputs(batch):\n",
    "    inputs = tokenizer(batch[\"article\"], padding=\"max_length\", truncation=True, max_length=encoder_max_length)\n",
    "    outputs = tokenizer(batch[\"highlights\"], padding=\"max_length\", truncation=True, max_length=decoder_max_length)\n",
    "\n",
    "    batch[\"input_ids\"] = inputs.input_ids\n",
    "    batch[\"attention_mask\"] = inputs.attention_mask\n",
    "    batch[\"decoder_input_ids\"] = outputs.input_ids\n",
    "    batch[\"decoder_attention_mask\"] = outputs.attention_mask\n",
    "    batch[\"labels\"] = outputs.input_ids.copy()\n",
    "    batch[\"labels\"] = [[-100 if token == tokenizer.pad_token_id else token for token in labels] for labels in batch[\"labels\"]]\n",
    "\n",
    "    return batch"
   ]
  },
  {
   "cell_type": "code",
   "execution_count": 42,
   "metadata": {},
   "outputs": [
    {
     "ename": "AttributeError",
     "evalue": "'tokenizers.Encoding' object has no attribute 'n_sequences'",
     "output_type": "error",
     "traceback": [
      "\u001b[0;31m---------------------------------------------------------------------------\u001b[0m",
      "\u001b[0;31mAttributeError\u001b[0m                            Traceback (most recent call last)",
      "\u001b[0;32m<ipython-input-42-a36535594614>\u001b[0m in \u001b[0;36m<module>\u001b[0;34m\u001b[0m\n\u001b[1;32m      6\u001b[0m     \u001b[0mbatched\u001b[0m\u001b[0;34m=\u001b[0m\u001b[0;32mTrue\u001b[0m\u001b[0;34m,\u001b[0m\u001b[0;34m\u001b[0m\u001b[0;34m\u001b[0m\u001b[0m\n\u001b[1;32m      7\u001b[0m     \u001b[0mbatch_size\u001b[0m\u001b[0;34m=\u001b[0m\u001b[0mbatch_size\u001b[0m\u001b[0;34m,\u001b[0m\u001b[0;34m\u001b[0m\u001b[0;34m\u001b[0m\u001b[0m\n\u001b[0;32m----> 8\u001b[0;31m     \u001b[0mremove_columns\u001b[0m\u001b[0;34m=\u001b[0m\u001b[0;34m[\u001b[0m\u001b[0;34m\"article\"\u001b[0m\u001b[0;34m,\u001b[0m \u001b[0;34m\"highlights\"\u001b[0m\u001b[0;34m]\u001b[0m \u001b[0;31m# \"id\"\u001b[0m\u001b[0;34m\u001b[0m\u001b[0;34m\u001b[0m\u001b[0m\n\u001b[0m\u001b[1;32m      9\u001b[0m )\n\u001b[1;32m     10\u001b[0m \u001b[0;34m\u001b[0m\u001b[0m\n",
      "\u001b[0;32m~/.local/lib/python3.6/site-packages/datasets/arrow_dataset.py\u001b[0m in \u001b[0;36mmap\u001b[0;34m(self, function, with_indices, input_columns, batched, batch_size, drop_last_batch, remove_columns, keep_in_memory, load_from_cache_file, cache_file_name, writer_batch_size, features, disable_nullable, fn_kwargs, num_proc, suffix_template, new_fingerprint)\u001b[0m\n\u001b[1;32m   1405\u001b[0m         \u001b[0mtest_inputs\u001b[0m \u001b[0;34m=\u001b[0m \u001b[0mself\u001b[0m\u001b[0;34m[\u001b[0m\u001b[0;34m:\u001b[0m\u001b[0;36m2\u001b[0m\u001b[0;34m]\u001b[0m \u001b[0;32mif\u001b[0m \u001b[0mbatched\u001b[0m \u001b[0;32melse\u001b[0m \u001b[0mself\u001b[0m\u001b[0;34m[\u001b[0m\u001b[0;36m0\u001b[0m\u001b[0;34m]\u001b[0m\u001b[0;34m\u001b[0m\u001b[0;34m\u001b[0m\u001b[0m\n\u001b[1;32m   1406\u001b[0m         \u001b[0mtest_indices\u001b[0m \u001b[0;34m=\u001b[0m \u001b[0;34m[\u001b[0m\u001b[0;36m0\u001b[0m\u001b[0;34m,\u001b[0m \u001b[0;36m1\u001b[0m\u001b[0;34m]\u001b[0m \u001b[0;32mif\u001b[0m \u001b[0mbatched\u001b[0m \u001b[0;32melse\u001b[0m \u001b[0;36m0\u001b[0m\u001b[0;34m\u001b[0m\u001b[0;34m\u001b[0m\u001b[0m\n\u001b[0;32m-> 1407\u001b[0;31m         \u001b[0mupdate_data\u001b[0m \u001b[0;34m=\u001b[0m \u001b[0mdoes_function_return_dict\u001b[0m\u001b[0;34m(\u001b[0m\u001b[0mtest_inputs\u001b[0m\u001b[0;34m,\u001b[0m \u001b[0mtest_indices\u001b[0m\u001b[0;34m)\u001b[0m\u001b[0;34m\u001b[0m\u001b[0;34m\u001b[0m\u001b[0m\n\u001b[0m\u001b[1;32m   1408\u001b[0m         \u001b[0mlogger\u001b[0m\u001b[0;34m.\u001b[0m\u001b[0minfo\u001b[0m\u001b[0;34m(\u001b[0m\u001b[0;34m\"Testing finished, running the mapping function on the dataset\"\u001b[0m\u001b[0;34m)\u001b[0m\u001b[0;34m\u001b[0m\u001b[0;34m\u001b[0m\u001b[0m\n\u001b[1;32m   1409\u001b[0m \u001b[0;34m\u001b[0m\u001b[0m\n",
      "\u001b[0;32m~/.local/lib/python3.6/site-packages/datasets/arrow_dataset.py\u001b[0m in \u001b[0;36mdoes_function_return_dict\u001b[0;34m(inputs, indices)\u001b[0m\n\u001b[1;32m   1376\u001b[0m             \u001b[0mfn_args\u001b[0m \u001b[0;34m=\u001b[0m \u001b[0;34m[\u001b[0m\u001b[0minputs\u001b[0m\u001b[0;34m]\u001b[0m \u001b[0;32mif\u001b[0m \u001b[0minput_columns\u001b[0m \u001b[0;32mis\u001b[0m \u001b[0;32mNone\u001b[0m \u001b[0;32melse\u001b[0m \u001b[0;34m[\u001b[0m\u001b[0minputs\u001b[0m\u001b[0;34m[\u001b[0m\u001b[0mcol\u001b[0m\u001b[0;34m]\u001b[0m \u001b[0;32mfor\u001b[0m \u001b[0mcol\u001b[0m \u001b[0;32min\u001b[0m \u001b[0minput_columns\u001b[0m\u001b[0;34m]\u001b[0m\u001b[0;34m\u001b[0m\u001b[0;34m\u001b[0m\u001b[0m\n\u001b[1;32m   1377\u001b[0m             processed_inputs = (\n\u001b[0;32m-> 1378\u001b[0;31m                 \u001b[0mfunction\u001b[0m\u001b[0;34m(\u001b[0m\u001b[0;34m*\u001b[0m\u001b[0mfn_args\u001b[0m\u001b[0;34m,\u001b[0m \u001b[0mindices\u001b[0m\u001b[0;34m,\u001b[0m \u001b[0;34m**\u001b[0m\u001b[0mfn_kwargs\u001b[0m\u001b[0;34m)\u001b[0m \u001b[0;32mif\u001b[0m \u001b[0mwith_indices\u001b[0m \u001b[0;32melse\u001b[0m \u001b[0mfunction\u001b[0m\u001b[0;34m(\u001b[0m\u001b[0;34m*\u001b[0m\u001b[0mfn_args\u001b[0m\u001b[0;34m,\u001b[0m \u001b[0;34m**\u001b[0m\u001b[0mfn_kwargs\u001b[0m\u001b[0;34m)\u001b[0m\u001b[0;34m\u001b[0m\u001b[0;34m\u001b[0m\u001b[0m\n\u001b[0m\u001b[1;32m   1379\u001b[0m             )\n\u001b[1;32m   1380\u001b[0m             \u001b[0mdoes_return_dict\u001b[0m \u001b[0;34m=\u001b[0m \u001b[0misinstance\u001b[0m\u001b[0;34m(\u001b[0m\u001b[0mprocessed_inputs\u001b[0m\u001b[0;34m,\u001b[0m \u001b[0mMapping\u001b[0m\u001b[0;34m)\u001b[0m\u001b[0;34m\u001b[0m\u001b[0;34m\u001b[0m\u001b[0m\n",
      "\u001b[0;32m<ipython-input-32-c4cba2645003>\u001b[0m in \u001b[0;36mprocess_data_to_model_inputs\u001b[0;34m(batch)\u001b[0m\n\u001b[1;32m      5\u001b[0m \u001b[0;34m\u001b[0m\u001b[0m\n\u001b[1;32m      6\u001b[0m \u001b[0;32mdef\u001b[0m \u001b[0mprocess_data_to_model_inputs\u001b[0m\u001b[0;34m(\u001b[0m\u001b[0mbatch\u001b[0m\u001b[0;34m)\u001b[0m\u001b[0;34m:\u001b[0m\u001b[0;34m\u001b[0m\u001b[0;34m\u001b[0m\u001b[0m\n\u001b[0;32m----> 7\u001b[0;31m     \u001b[0minputs\u001b[0m \u001b[0;34m=\u001b[0m \u001b[0mtokenizer\u001b[0m\u001b[0;34m(\u001b[0m\u001b[0mbatch\u001b[0m\u001b[0;34m[\u001b[0m\u001b[0;34m\"article\"\u001b[0m\u001b[0;34m]\u001b[0m\u001b[0;34m,\u001b[0m \u001b[0mpadding\u001b[0m\u001b[0;34m=\u001b[0m\u001b[0;34m\"max_length\"\u001b[0m\u001b[0;34m,\u001b[0m \u001b[0mtruncation\u001b[0m\u001b[0;34m=\u001b[0m\u001b[0;32mTrue\u001b[0m\u001b[0;34m,\u001b[0m \u001b[0mmax_length\u001b[0m\u001b[0;34m=\u001b[0m\u001b[0mencoder_max_length\u001b[0m\u001b[0;34m)\u001b[0m\u001b[0;34m\u001b[0m\u001b[0;34m\u001b[0m\u001b[0m\n\u001b[0m\u001b[1;32m      8\u001b[0m     \u001b[0moutputs\u001b[0m \u001b[0;34m=\u001b[0m \u001b[0mtokenizer\u001b[0m\u001b[0;34m(\u001b[0m\u001b[0mbatch\u001b[0m\u001b[0;34m[\u001b[0m\u001b[0;34m\"highlights\"\u001b[0m\u001b[0;34m]\u001b[0m\u001b[0;34m,\u001b[0m \u001b[0mpadding\u001b[0m\u001b[0;34m=\u001b[0m\u001b[0;34m\"max_length\"\u001b[0m\u001b[0;34m,\u001b[0m \u001b[0mtruncation\u001b[0m\u001b[0;34m=\u001b[0m\u001b[0;32mTrue\u001b[0m\u001b[0;34m,\u001b[0m \u001b[0mmax_length\u001b[0m\u001b[0;34m=\u001b[0m\u001b[0mdecoder_max_length\u001b[0m\u001b[0;34m)\u001b[0m\u001b[0;34m\u001b[0m\u001b[0;34m\u001b[0m\u001b[0m\n\u001b[1;32m      9\u001b[0m \u001b[0;34m\u001b[0m\u001b[0m\n",
      "\u001b[0;32m~/.local/lib/python3.6/site-packages/transformers/tokenization_utils_base.py\u001b[0m in \u001b[0;36m__call__\u001b[0;34m(self, text, text_pair, add_special_tokens, padding, truncation, max_length, stride, is_split_into_words, pad_to_multiple_of, return_tensors, return_token_type_ids, return_attention_mask, return_overflowing_tokens, return_special_tokens_mask, return_offsets_mapping, return_length, verbose, **kwargs)\u001b[0m\n",
      "\u001b[0;32m~/.local/lib/python3.6/site-packages/transformers/tokenization_utils_base.py\u001b[0m in \u001b[0;36mbatch_encode_plus\u001b[0;34m(self, batch_text_or_text_pairs, add_special_tokens, padding, truncation, max_length, stride, is_split_into_words, pad_to_multiple_of, return_tensors, return_token_type_ids, return_attention_mask, return_overflowing_tokens, return_special_tokens_mask, return_offsets_mapping, return_length, verbose, **kwargs)\u001b[0m\n",
      "\u001b[0;32m~/.local/lib/python3.6/site-packages/transformers/tokenization_utils_fast.py\u001b[0m in \u001b[0;36m_batch_encode_plus\u001b[0;34m(self, batch_text_or_text_pairs, add_special_tokens, padding_strategy, truncation_strategy, max_length, stride, is_split_into_words, pad_to_multiple_of, return_tensors, return_token_type_ids, return_attention_mask, return_overflowing_tokens, return_special_tokens_mask, return_offsets_mapping, return_length, verbose)\u001b[0m\n",
      "\u001b[0;32m~/.local/lib/python3.6/site-packages/transformers/tokenization_utils_base.py\u001b[0m in \u001b[0;36m__init__\u001b[0;34m(self, data, encoding, tensor_type, prepend_batch_axis, n_sequences)\u001b[0m\n",
      "\u001b[0;31mAttributeError\u001b[0m: 'tokenizers.Encoding' object has no attribute 'n_sequences'"
     ]
    }
   ],
   "source": [
    "# Training data\n",
    "train_data = train_data.shuffle()\n",
    "\n",
    "train_data = train_data.map(\n",
    "    process_data_to_model_inputs, \n",
    "    batched=True, \n",
    "    batch_size=batch_size, \n",
    "    remove_columns=[\"article\", \"highlights\"] # \"id\"\n",
    ")\n",
    "\n",
    "train_data.set_format(\n",
    "    type=\"torch\",\n",
    "    columns=[\"input_ids\",\n",
    "             \"attention_mask\",\n",
    "             \"decoder_input_ids\",\n",
    "             \"decoder_attention_mask\",\n",
    "             \"labels\"]\n",
    ")"
   ]
  },
  {
   "cell_type": "code",
   "execution_count": null,
   "metadata": {},
   "outputs": [],
   "source": [
    "# Validation data\n",
    "val_data = val_data.shuffle()\n",
    "\n",
    "val_data = val_data.map(\n",
    "    process_data_to_model_inputs, \n",
    "    batched=True, \n",
    "    remove_columns=[\"article\", \"highlights\"] # id\n",
    ")\n",
    "\n",
    "val_data.set_format(\n",
    "    type=\"torch\",\n",
    "    columns=[\"input_ids\",\n",
    "             \"attention_mask\",\n",
    "             \"decoder_input_ids\",\n",
    "             \"decoder_attention_mask\",\n",
    "             \"labels\"]\n",
    ")\n",
    "\n",
    "val_data = val_data.select(range(2000))"
   ]
  },
  {
   "cell_type": "code",
   "execution_count": null,
   "metadata": {},
   "outputs": [],
   "source": [
    "# Load models\n",
    "tf2tf = EncoderDecoderModel.from_encoder_decoder_pretrained(\"bert-base-multilingual-cased\", \"bert-base-multilingual-cased\", tie_encoder_decoder=False)\n",
    "tf2tf.save_pretrained(\"bert2bert_multilingual\")\n",
    "tf2tf = EncoderDecoderModel.from_pretrained(\"bert2bert_multilingual\")"
   ]
  },
  {
   "cell_type": "code",
   "execution_count": null,
   "metadata": {},
   "outputs": [],
   "source": [
    "# Configure models\n",
    "tf2tf.config.decoder_start_token_id = tokenizer.cls_token_id\n",
    "tf2tf.config.eos_token_id = tokenizer.sep_token_id\n",
    "tf2tf.config.pad_token_id = tokenizer.pad_token_id\n",
    "tf2tf.config.vocab_size = tf2tf.config.encoder.vocab_size"
   ]
  },
  {
   "cell_type": "code",
   "execution_count": null,
   "metadata": {},
   "outputs": [],
   "source": [
    "# Configure beam search\n",
    "tf2tf.config.max_length = 142\n",
    "tf2tf.config.min_length = 56\n",
    "tf2tf.config.no_repeat_ngram_size = 3\n",
    "tf2tf.config.early_stopping = True\n",
    "tf2tf.config.length_penalty = 2.0\n",
    "tf2tf.config.num_beams = 4"
   ]
  },
  {
   "cell_type": "code",
   "execution_count": null,
   "metadata": {},
   "outputs": [],
   "source": [
    "# Prepare metric\n",
    "rouge = datasets.load_metric(\"rouge\")\n",
    "\n",
    "def compute_metrics(pred):\n",
    "    labels_ids = pred.label_ids\n",
    "    pred_ids = pred.predictions\n",
    "\n",
    "    pred_str = tokenizer.batch_decode(pred_ids, skip_special_tokens=True)\n",
    "    labels_ids[labels_ids == -100] = tokenizer.pad_token_id\n",
    "    label_str = tokenizer.batch_decode(labels_ids, skip_special_tokens=True)\n",
    "\n",
    "    rouge_output = rouge.compute(predictions=pred_str, references=label_str, rouge_types=[\"rouge2\"])[\"rouge2\"].mid\n",
    "\n",
    "    return {\n",
    "        \"rouge2_precision\": round(rouge_output.precision, 4),\n",
    "        \"rouge2_recall\": round(rouge_output.recall, 4),\n",
    "        \"rouge2_fmeasure\": round(rouge_output.fmeasure, 4),\n",
    "    }"
   ]
  },
  {
   "cell_type": "code",
   "execution_count": null,
   "metadata": {},
   "outputs": [],
   "source": [
    "# Load checkpoint\n",
    "from google.colab import drive\n",
    "\n",
    "path_drive = \"/content/drive\"\n",
    "drive.mount(path_drive)\n",
    "\n",
    "path_output = path_drive + \"/My Drive/Temp/Models\"\n",
    "path_checkpoint = path_output + \"/checkpoint-16000\"\n",
    "\n",
    "tf2tf = EncoderDecoderModel.from_pretrained(path_checkpoint)\n",
    "tf2tf.to(\"cuda\")"
   ]
  },
  {
   "cell_type": "code",
   "execution_count": null,
   "metadata": {},
   "outputs": [],
   "source": [
    "# Setup arguments\n",
    "from seq2seq_training_args import Seq2SeqTrainingArguments\n",
    "\n",
    "training_args = Seq2SeqTrainingArguments(\n",
    "    predict_with_generate=True,\n",
    "    evaluation_strategy=\"steps\",\n",
    "    per_device_train_batch_size=batch_size,\n",
    "    per_device_eval_batch_size=batch_size,\n",
    "    output_dir=path_output, # \"./\"\n",
    "    warmup_steps=1000,\n",
    "    save_steps=2000,\n",
    "    logging_steps=100,\n",
    "    eval_steps=2000,\n",
    "    save_total_limit=1,\n",
    "    fp16=True\n",
    ")"
   ]
  },
  {
   "cell_type": "code",
   "execution_count": null,
   "metadata": {},
   "outputs": [],
   "source": [
    "# Start training\n",
    "from seq2seq_trainer import Seq2SeqTrainer\n",
    "\n",
    "trainer = Seq2SeqTrainer(\n",
    "    model=tf2tf,\n",
    "    args=training_args,\n",
    "    compute_metrics=compute_metrics,\n",
    "    train_dataset=train_data,\n",
    "    eval_dataset=val_data,\n",
    ")\n",
    "\n",
    "trainer.train()"
   ]
  },
  {
   "cell_type": "code",
   "execution_count": null,
   "metadata": {},
   "outputs": [],
   "source": [
    "# Evaluate training\n",
    "def generate_summary(batch):\n",
    "    inputs = tokenizer(batch[\"article\"], padding=\"max_length\", truncation=True, max_length=512, return_tensors=\"pt\")\n",
    "    input_ids = inputs.input_ids.to(\"cuda\")\n",
    "    attention_mask = inputs.attention_mask.to(\"cuda\")\n",
    "    \n",
    "    outputs = tf2tf.generate(input_ids, attention_mask=attention_mask)\n",
    "    output_str = tokenizer.batch_decode(outputs, skip_special_tokens=True)\n",
    "    batch[\"pred_summary\"] = output_str\n",
    "\n",
    "    return batch\n",
    "\n",
    "results = test_data.map(\n",
    "    generate_summary,\n",
    "    batched=True,\n",
    "    batch_size=batch_size,\n",
    "    remove_columns=[\"article\"]\n",
    ")\n",
    "\n",
    "print(results[0][\"pred_summary\"])\n",
    "print(results[0][\"highlights\"])\n",
    "print(\"====================\")\n",
    "\n",
    "rouge.compute(predictions=results[\"pred_summary\"], references=results[\"highlights\"], rouge_types=[\"rouge2\"])[\"rouge2\"].mid\n",
    "\n",
    "# tf2tf = EncoderDecoderModel.from_pretrained(\"patrickvonplaten/bert2bert_cnn_daily_mail\").to(\"cuda\")\n",
    "# tokenizer = BertTokenizer.from_pretrained(\"patrickvonplaten/bert2bert_cnn_daily_mail\")"
   ]
  }
 ],
 "metadata": {
  "kernelspec": {
   "display_name": "Python 3",
   "language": "python",
   "name": "python3"
  },
  "language_info": {
   "codemirror_mode": {
    "name": "ipython",
    "version": 3
   },
   "file_extension": ".py",
   "mimetype": "text/x-python",
   "name": "python",
   "nbconvert_exporter": "python",
   "pygments_lexer": "ipython3",
   "version": "3.6.10"
  }
 },
 "nbformat": 4,
 "nbformat_minor": 4
}
